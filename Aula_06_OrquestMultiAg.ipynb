{
 "cells": [
  {
   "cell_type": "code",
   "execution_count": 1,
   "id": "86ffc692",
   "metadata": {},
   "outputs": [
    {
     "name": "stdout",
     "output_type": "stream",
     "text": [
      "Requirement already satisfied: langchain in c:\\users\\cadup\\anaconda3\\lib\\site-packages (0.3.27)\n",
      "Requirement already satisfied: langchain-google-genai in c:\\users\\cadup\\anaconda3\\lib\\site-packages (2.1.9)\n",
      "Requirement already satisfied: langchain_community in c:\\users\\cadup\\anaconda3\\lib\\site-packages (0.3.27)\n",
      "Requirement already satisfied: tavily-python in c:\\users\\cadup\\anaconda3\\lib\\site-packages (0.7.10)\n",
      "Requirement already satisfied: aiosqlite in c:\\users\\cadup\\anaconda3\\lib\\site-packages (0.21.0)\n",
      "Requirement already satisfied: langchain-tavily in c:\\users\\cadup\\anaconda3\\lib\\site-packages (0.2.11)\n",
      "Requirement already satisfied: langchain-core<1.0.0,>=0.3.72 in c:\\users\\cadup\\anaconda3\\lib\\site-packages (from langchain) (0.3.74)\n",
      "Requirement already satisfied: langchain-text-splitters<1.0.0,>=0.3.9 in c:\\users\\cadup\\anaconda3\\lib\\site-packages (from langchain) (0.3.9)\n",
      "Requirement already satisfied: langsmith>=0.1.17 in c:\\users\\cadup\\anaconda3\\lib\\site-packages (from langchain) (0.4.13)\n",
      "Requirement already satisfied: pydantic<3.0.0,>=2.7.4 in c:\\users\\cadup\\anaconda3\\lib\\site-packages (from langchain) (2.11.7)\n",
      "Requirement already satisfied: SQLAlchemy<3,>=1.4 in c:\\users\\cadup\\anaconda3\\lib\\site-packages (from langchain) (2.0.41)\n",
      "Requirement already satisfied: requests<3,>=2 in c:\\users\\cadup\\anaconda3\\lib\\site-packages (from langchain) (2.32.4)\n",
      "Requirement already satisfied: PyYAML>=5.3 in c:\\users\\cadup\\anaconda3\\lib\\site-packages (from langchain) (6.0.2)\n",
      "Requirement already satisfied: filetype<2.0.0,>=1.2.0 in c:\\users\\cadup\\anaconda3\\lib\\site-packages (from langchain-google-genai) (1.2.0)\n",
      "Collecting google-ai-generativelanguage<0.7.0,>=0.6.18 (from langchain-google-genai)\n",
      "  Using cached google_ai_generativelanguage-0.6.18-py3-none-any.whl.metadata (9.8 kB)\n",
      "Requirement already satisfied: aiohttp<4.0.0,>=3.8.3 in c:\\users\\cadup\\anaconda3\\lib\\site-packages (from langchain_community) (3.12.14)\n",
      "Requirement already satisfied: tenacity!=8.4.0,<10,>=8.1.0 in c:\\users\\cadup\\anaconda3\\lib\\site-packages (from langchain_community) (8.5.0)\n",
      "Requirement already satisfied: dataclasses-json<0.7,>=0.5.7 in c:\\users\\cadup\\anaconda3\\lib\\site-packages (from langchain_community) (0.5.14)\n",
      "Requirement already satisfied: pydantic-settings<3.0.0,>=2.4.0 in c:\\users\\cadup\\anaconda3\\lib\\site-packages (from langchain_community) (2.6.1)\n",
      "Requirement already satisfied: httpx-sse<1.0.0,>=0.4.0 in c:\\users\\cadup\\anaconda3\\lib\\site-packages (from langchain_community) (0.4.0)\n",
      "Requirement already satisfied: numpy>=1.26.2 in c:\\users\\cadup\\anaconda3\\lib\\site-packages (from langchain_community) (1.26.4)\n",
      "Requirement already satisfied: tiktoken>=0.5.1 in c:\\users\\cadup\\anaconda3\\lib\\site-packages (from tavily-python) (0.7.0)\n",
      "Requirement already satisfied: httpx in c:\\users\\cadup\\anaconda3\\lib\\site-packages (from tavily-python) (0.28.1)\n",
      "Requirement already satisfied: typing_extensions>=4.0 in c:\\users\\cadup\\anaconda3\\lib\\site-packages (from aiosqlite) (4.14.1)\n",
      "Requirement already satisfied: aiohappyeyeballs>=2.5.0 in c:\\users\\cadup\\anaconda3\\lib\\site-packages (from aiohttp<4.0.0,>=3.8.3->langchain_community) (2.6.1)\n",
      "Requirement already satisfied: aiosignal>=1.4.0 in c:\\users\\cadup\\anaconda3\\lib\\site-packages (from aiohttp<4.0.0,>=3.8.3->langchain_community) (1.4.0)\n",
      "Requirement already satisfied: attrs>=17.3.0 in c:\\users\\cadup\\anaconda3\\lib\\site-packages (from aiohttp<4.0.0,>=3.8.3->langchain_community) (25.3.0)\n",
      "Requirement already satisfied: frozenlist>=1.1.1 in c:\\users\\cadup\\anaconda3\\lib\\site-packages (from aiohttp<4.0.0,>=3.8.3->langchain_community) (1.7.0)\n",
      "Requirement already satisfied: multidict<7.0,>=4.5 in c:\\users\\cadup\\anaconda3\\lib\\site-packages (from aiohttp<4.0.0,>=3.8.3->langchain_community) (6.6.3)\n",
      "Requirement already satisfied: propcache>=0.2.0 in c:\\users\\cadup\\anaconda3\\lib\\site-packages (from aiohttp<4.0.0,>=3.8.3->langchain_community) (0.3.2)\n",
      "Requirement already satisfied: yarl<2.0,>=1.17.0 in c:\\users\\cadup\\anaconda3\\lib\\site-packages (from aiohttp<4.0.0,>=3.8.3->langchain_community) (1.20.1)\n",
      "Requirement already satisfied: marshmallow<4.0.0,>=3.18.0 in c:\\users\\cadup\\anaconda3\\lib\\site-packages (from dataclasses-json<0.7,>=0.5.7->langchain_community) (3.22.0)\n",
      "Requirement already satisfied: typing-inspect<1,>=0.4.0 in c:\\users\\cadup\\anaconda3\\lib\\site-packages (from dataclasses-json<0.7,>=0.5.7->langchain_community) (0.9.0)\n",
      "Requirement already satisfied: google-api-core!=2.0.*,!=2.1.*,!=2.10.*,!=2.2.*,!=2.3.*,!=2.4.*,!=2.5.*,!=2.6.*,!=2.7.*,!=2.8.*,!=2.9.*,<3.0.0,>=1.34.1 in c:\\users\\cadup\\anaconda3\\lib\\site-packages (from google-api-core[grpc]!=2.0.*,!=2.1.*,!=2.10.*,!=2.2.*,!=2.3.*,!=2.4.*,!=2.5.*,!=2.6.*,!=2.7.*,!=2.8.*,!=2.9.*,<3.0.0,>=1.34.1->google-ai-generativelanguage<0.7.0,>=0.6.18->langchain-google-genai) (2.25.1)\n",
      "Requirement already satisfied: google-auth!=2.24.0,!=2.25.0,<3.0.0,>=2.14.1 in c:\\users\\cadup\\anaconda3\\lib\\site-packages (from google-ai-generativelanguage<0.7.0,>=0.6.18->langchain-google-genai) (2.40.3)\n",
      "Requirement already satisfied: proto-plus<2.0.0,>=1.22.3 in c:\\users\\cadup\\anaconda3\\lib\\site-packages (from google-ai-generativelanguage<0.7.0,>=0.6.18->langchain-google-genai) (1.26.1)\n",
      "Requirement already satisfied: protobuf!=4.21.0,!=4.21.1,!=4.21.2,!=4.21.3,!=4.21.4,!=4.21.5,<7.0.0,>=3.20.2 in c:\\users\\cadup\\anaconda3\\lib\\site-packages (from google-ai-generativelanguage<0.7.0,>=0.6.18->langchain-google-genai) (5.29.5)\n",
      "Requirement already satisfied: jsonpatch<2.0,>=1.33 in c:\\users\\cadup\\anaconda3\\lib\\site-packages (from langchain-core<1.0.0,>=0.3.72->langchain) (1.33)\n",
      "Requirement already satisfied: packaging>=23.2 in c:\\users\\cadup\\anaconda3\\lib\\site-packages (from langchain-core<1.0.0,>=0.3.72->langchain) (24.2)\n",
      "Requirement already satisfied: orjson>=3.9.14 in c:\\users\\cadup\\anaconda3\\lib\\site-packages (from langsmith>=0.1.17->langchain) (3.11.0)\n",
      "Requirement already satisfied: requests-toolbelt>=1.0.0 in c:\\users\\cadup\\anaconda3\\lib\\site-packages (from langsmith>=0.1.17->langchain) (1.0.0)\n",
      "Requirement already satisfied: zstandard>=0.23.0 in c:\\users\\cadup\\anaconda3\\lib\\site-packages (from langsmith>=0.1.17->langchain) (0.23.0)\n",
      "Requirement already satisfied: anyio in c:\\users\\cadup\\anaconda3\\lib\\site-packages (from httpx->tavily-python) (4.9.0)\n",
      "Requirement already satisfied: certifi in c:\\users\\cadup\\anaconda3\\lib\\site-packages (from httpx->tavily-python) (2025.7.14)\n",
      "Requirement already satisfied: httpcore==1.* in c:\\users\\cadup\\anaconda3\\lib\\site-packages (from httpx->tavily-python) (1.0.9)\n",
      "Requirement already satisfied: idna in c:\\users\\cadup\\anaconda3\\lib\\site-packages (from httpx->tavily-python) (3.10)\n",
      "Requirement already satisfied: h11>=0.16 in c:\\users\\cadup\\anaconda3\\lib\\site-packages (from httpcore==1.*->httpx->tavily-python) (0.16.0)\n",
      "Requirement already satisfied: annotated-types>=0.6.0 in c:\\users\\cadup\\anaconda3\\lib\\site-packages (from pydantic<3.0.0,>=2.7.4->langchain) (0.7.0)\n",
      "Requirement already satisfied: pydantic-core==2.33.2 in c:\\users\\cadup\\anaconda3\\lib\\site-packages (from pydantic<3.0.0,>=2.7.4->langchain) (2.33.2)\n",
      "Requirement already satisfied: typing-inspection>=0.4.0 in c:\\users\\cadup\\anaconda3\\lib\\site-packages (from pydantic<3.0.0,>=2.7.4->langchain) (0.4.1)\n",
      "Requirement already satisfied: python-dotenv>=0.21.0 in c:\\users\\cadup\\anaconda3\\lib\\site-packages (from pydantic-settings<3.0.0,>=2.4.0->langchain_community) (1.1.1)\n",
      "Requirement already satisfied: charset_normalizer<4,>=2 in c:\\users\\cadup\\anaconda3\\lib\\site-packages (from requests<3,>=2->langchain) (3.4.2)\n",
      "Requirement already satisfied: urllib3<3,>=1.21.1 in c:\\users\\cadup\\anaconda3\\lib\\site-packages (from requests<3,>=2->langchain) (2.5.0)\n",
      "Requirement already satisfied: greenlet>=1 in c:\\users\\cadup\\anaconda3\\lib\\site-packages (from SQLAlchemy<3,>=1.4->langchain) (3.2.3)\n",
      "Requirement already satisfied: regex>=2022.1.18 in c:\\users\\cadup\\anaconda3\\lib\\site-packages (from tiktoken>=0.5.1->tavily-python) (2023.12.25)\n",
      "Requirement already satisfied: googleapis-common-protos<2.0.0,>=1.56.2 in c:\\users\\cadup\\anaconda3\\lib\\site-packages (from google-api-core!=2.0.*,!=2.1.*,!=2.10.*,!=2.2.*,!=2.3.*,!=2.4.*,!=2.5.*,!=2.6.*,!=2.7.*,!=2.8.*,!=2.9.*,<3.0.0,>=1.34.1->google-api-core[grpc]!=2.0.*,!=2.1.*,!=2.10.*,!=2.2.*,!=2.3.*,!=2.4.*,!=2.5.*,!=2.6.*,!=2.7.*,!=2.8.*,!=2.9.*,<3.0.0,>=1.34.1->google-ai-generativelanguage<0.7.0,>=0.6.18->langchain-google-genai) (1.70.0)\n",
      "Requirement already satisfied: grpcio<2.0.0,>=1.33.2 in c:\\users\\cadup\\anaconda3\\lib\\site-packages (from google-api-core[grpc]!=2.0.*,!=2.1.*,!=2.10.*,!=2.2.*,!=2.3.*,!=2.4.*,!=2.5.*,!=2.6.*,!=2.7.*,!=2.8.*,!=2.9.*,<3.0.0,>=1.34.1->google-ai-generativelanguage<0.7.0,>=0.6.18->langchain-google-genai) (1.73.1)\n",
      "Requirement already satisfied: grpcio-status<2.0.0,>=1.33.2 in c:\\users\\cadup\\anaconda3\\lib\\site-packages (from google-api-core[grpc]!=2.0.*,!=2.1.*,!=2.10.*,!=2.2.*,!=2.3.*,!=2.4.*,!=2.5.*,!=2.6.*,!=2.7.*,!=2.8.*,!=2.9.*,<3.0.0,>=1.34.1->google-ai-generativelanguage<0.7.0,>=0.6.18->langchain-google-genai) (1.71.2)\n",
      "Requirement already satisfied: cachetools<6.0,>=2.0.0 in c:\\users\\cadup\\anaconda3\\lib\\site-packages (from google-auth!=2.24.0,!=2.25.0,<3.0.0,>=2.14.1->google-ai-generativelanguage<0.7.0,>=0.6.18->langchain-google-genai) (5.5.2)\n",
      "Requirement already satisfied: pyasn1-modules>=0.2.1 in c:\\users\\cadup\\anaconda3\\lib\\site-packages (from google-auth!=2.24.0,!=2.25.0,<3.0.0,>=2.14.1->google-ai-generativelanguage<0.7.0,>=0.6.18->langchain-google-genai) (0.4.2)\n",
      "Requirement already satisfied: rsa<5,>=3.1.4 in c:\\users\\cadup\\anaconda3\\lib\\site-packages (from google-auth!=2.24.0,!=2.25.0,<3.0.0,>=2.14.1->google-ai-generativelanguage<0.7.0,>=0.6.18->langchain-google-genai) (4.9.1)\n",
      "Requirement already satisfied: jsonpointer>=1.9 in c:\\users\\cadup\\anaconda3\\lib\\site-packages (from jsonpatch<2.0,>=1.33->langchain-core<1.0.0,>=0.3.72->langchain) (3.0.0)\n",
      "Requirement already satisfied: mypy-extensions>=0.3.0 in c:\\users\\cadup\\anaconda3\\lib\\site-packages (from typing-inspect<1,>=0.4.0->dataclasses-json<0.7,>=0.5.7->langchain_community) (1.0.0)\n",
      "Requirement already satisfied: sniffio>=1.1 in c:\\users\\cadup\\anaconda3\\lib\\site-packages (from anyio->httpx->tavily-python) (1.3.1)\n",
      "Requirement already satisfied: pyasn1<0.7.0,>=0.6.1 in c:\\users\\cadup\\anaconda3\\lib\\site-packages (from pyasn1-modules>=0.2.1->google-auth!=2.24.0,!=2.25.0,<3.0.0,>=2.14.1->google-ai-generativelanguage<0.7.0,>=0.6.18->langchain-google-genai) (0.6.1)\n",
      "Using cached google_ai_generativelanguage-0.6.18-py3-none-any.whl (1.4 MB)\n",
      "Installing collected packages: google-ai-generativelanguage\n",
      "  Attempting uninstall: google-ai-generativelanguage\n",
      "    Found existing installation: google-ai-generativelanguage 0.6.15\n",
      "    Uninstalling google-ai-generativelanguage-0.6.15:\n",
      "      Successfully uninstalled google-ai-generativelanguage-0.6.15\n",
      "Successfully installed google-ai-generativelanguage-0.6.18\n",
      "Note: you may need to restart the kernel to use updated packages.\n"
     ]
    },
    {
     "name": "stderr",
     "output_type": "stream",
     "text": [
      "WARNING: Skipping c:\\Users\\cadup\\anaconda3\\Lib\\site-packages\\httpx-0.27.2.dist-info due to invalid metadata entry 'name'\n",
      "WARNING: Skipping c:\\Users\\cadup\\anaconda3\\Lib\\site-packages\\httpx-0.27.2.dist-info due to invalid metadata entry 'name'\n",
      "WARNING: Skipping c:\\Users\\cadup\\anaconda3\\Lib\\site-packages\\httpx-0.27.2.dist-info due to invalid metadata entry 'name'\n",
      "ERROR: pip's dependency resolver does not currently take into account all the packages that are installed. This behaviour is the source of the following dependency conflicts.\n",
      "google-generativeai 0.8.5 requires google-ai-generativelanguage==0.6.15, but you have google-ai-generativelanguage 0.6.18 which is incompatible.\n",
      "WARNING: Skipping c:\\Users\\cadup\\anaconda3\\Lib\\site-packages\\httpx-0.27.2.dist-info due to invalid metadata entry 'name'\n",
      "WARNING: Skipping c:\\Users\\cadup\\anaconda3\\Lib\\site-packages\\httpx-0.27.2.dist-info due to invalid metadata entry 'name'\n",
      "WARNING: Skipping c:\\Users\\cadup\\anaconda3\\Lib\\site-packages\\httpx-0.27.2.dist-info due to invalid metadata entry 'name'\n"
     ]
    },
    {
     "name": "stdout",
     "output_type": "stream",
     "text": [
      "Requirement already satisfied: langgraph-checkpoint-sqlite in c:\\users\\cadup\\anaconda3\\lib\\site-packages (2.0.10)\n",
      "Requirement already satisfied: aiosqlite>=0.20 in c:\\users\\cadup\\anaconda3\\lib\\site-packages (from langgraph-checkpoint-sqlite) (0.21.0)\n",
      "Requirement already satisfied: langgraph-checkpoint>=2.0.21 in c:\\users\\cadup\\anaconda3\\lib\\site-packages (from langgraph-checkpoint-sqlite) (2.1.1)\n",
      "Requirement already satisfied: sqlite-vec>=0.1.6 in c:\\users\\cadup\\anaconda3\\lib\\site-packages (from langgraph-checkpoint-sqlite) (0.1.6)\n",
      "Requirement already satisfied: typing_extensions>=4.0 in c:\\users\\cadup\\anaconda3\\lib\\site-packages (from aiosqlite>=0.20->langgraph-checkpoint-sqlite) (4.14.1)\n",
      "Requirement already satisfied: langchain-core>=0.2.38 in c:\\users\\cadup\\anaconda3\\lib\\site-packages (from langgraph-checkpoint>=2.0.21->langgraph-checkpoint-sqlite) (0.3.74)\n",
      "Requirement already satisfied: ormsgpack>=1.10.0 in c:\\users\\cadup\\anaconda3\\lib\\site-packages (from langgraph-checkpoint>=2.0.21->langgraph-checkpoint-sqlite) (1.10.0)\n",
      "Requirement already satisfied: langsmith>=0.3.45 in c:\\users\\cadup\\anaconda3\\lib\\site-packages (from langchain-core>=0.2.38->langgraph-checkpoint>=2.0.21->langgraph-checkpoint-sqlite) (0.4.13)\n",
      "Requirement already satisfied: tenacity!=8.4.0,<10.0.0,>=8.1.0 in c:\\users\\cadup\\anaconda3\\lib\\site-packages (from langchain-core>=0.2.38->langgraph-checkpoint>=2.0.21->langgraph-checkpoint-sqlite) (8.5.0)\n",
      "Requirement already satisfied: jsonpatch<2.0,>=1.33 in c:\\users\\cadup\\anaconda3\\lib\\site-packages (from langchain-core>=0.2.38->langgraph-checkpoint>=2.0.21->langgraph-checkpoint-sqlite) (1.33)\n",
      "Requirement already satisfied: PyYAML>=5.3 in c:\\users\\cadup\\anaconda3\\lib\\site-packages (from langchain-core>=0.2.38->langgraph-checkpoint>=2.0.21->langgraph-checkpoint-sqlite) (6.0.2)\n",
      "Requirement already satisfied: packaging>=23.2 in c:\\users\\cadup\\anaconda3\\lib\\site-packages (from langchain-core>=0.2.38->langgraph-checkpoint>=2.0.21->langgraph-checkpoint-sqlite) (24.2)\n",
      "Requirement already satisfied: pydantic>=2.7.4 in c:\\users\\cadup\\anaconda3\\lib\\site-packages (from langchain-core>=0.2.38->langgraph-checkpoint>=2.0.21->langgraph-checkpoint-sqlite) (2.11.7)\n",
      "Requirement already satisfied: jsonpointer>=1.9 in c:\\users\\cadup\\anaconda3\\lib\\site-packages (from jsonpatch<2.0,>=1.33->langchain-core>=0.2.38->langgraph-checkpoint>=2.0.21->langgraph-checkpoint-sqlite) (3.0.0)\n",
      "Requirement already satisfied: httpx<1,>=0.23.0 in c:\\users\\cadup\\anaconda3\\lib\\site-packages (from langsmith>=0.3.45->langchain-core>=0.2.38->langgraph-checkpoint>=2.0.21->langgraph-checkpoint-sqlite) (0.28.1)\n",
      "Requirement already satisfied: orjson>=3.9.14 in c:\\users\\cadup\\anaconda3\\lib\\site-packages (from langsmith>=0.3.45->langchain-core>=0.2.38->langgraph-checkpoint>=2.0.21->langgraph-checkpoint-sqlite) (3.11.0)\n",
      "Requirement already satisfied: requests-toolbelt>=1.0.0 in c:\\users\\cadup\\anaconda3\\lib\\site-packages (from langsmith>=0.3.45->langchain-core>=0.2.38->langgraph-checkpoint>=2.0.21->langgraph-checkpoint-sqlite) (1.0.0)\n",
      "Requirement already satisfied: requests>=2.0.0 in c:\\users\\cadup\\anaconda3\\lib\\site-packages (from langsmith>=0.3.45->langchain-core>=0.2.38->langgraph-checkpoint>=2.0.21->langgraph-checkpoint-sqlite) (2.32.4)\n",
      "Requirement already satisfied: zstandard>=0.23.0 in c:\\users\\cadup\\anaconda3\\lib\\site-packages (from langsmith>=0.3.45->langchain-core>=0.2.38->langgraph-checkpoint>=2.0.21->langgraph-checkpoint-sqlite) (0.23.0)\n",
      "Requirement already satisfied: annotated-types>=0.6.0 in c:\\users\\cadup\\anaconda3\\lib\\site-packages (from pydantic>=2.7.4->langchain-core>=0.2.38->langgraph-checkpoint>=2.0.21->langgraph-checkpoint-sqlite) (0.7.0)\n",
      "Requirement already satisfied: pydantic-core==2.33.2 in c:\\users\\cadup\\anaconda3\\lib\\site-packages (from pydantic>=2.7.4->langchain-core>=0.2.38->langgraph-checkpoint>=2.0.21->langgraph-checkpoint-sqlite) (2.33.2)\n",
      "Requirement already satisfied: typing-inspection>=0.4.0 in c:\\users\\cadup\\anaconda3\\lib\\site-packages (from pydantic>=2.7.4->langchain-core>=0.2.38->langgraph-checkpoint>=2.0.21->langgraph-checkpoint-sqlite) (0.4.1)\n",
      "Requirement already satisfied: anyio in c:\\users\\cadup\\anaconda3\\lib\\site-packages (from httpx<1,>=0.23.0->langsmith>=0.3.45->langchain-core>=0.2.38->langgraph-checkpoint>=2.0.21->langgraph-checkpoint-sqlite) (4.9.0)\n",
      "Requirement already satisfied: certifi in c:\\users\\cadup\\anaconda3\\lib\\site-packages (from httpx<1,>=0.23.0->langsmith>=0.3.45->langchain-core>=0.2.38->langgraph-checkpoint>=2.0.21->langgraph-checkpoint-sqlite) (2025.7.14)\n",
      "Requirement already satisfied: httpcore==1.* in c:\\users\\cadup\\anaconda3\\lib\\site-packages (from httpx<1,>=0.23.0->langsmith>=0.3.45->langchain-core>=0.2.38->langgraph-checkpoint>=2.0.21->langgraph-checkpoint-sqlite) (1.0.9)\n",
      "Requirement already satisfied: idna in c:\\users\\cadup\\anaconda3\\lib\\site-packages (from httpx<1,>=0.23.0->langsmith>=0.3.45->langchain-core>=0.2.38->langgraph-checkpoint>=2.0.21->langgraph-checkpoint-sqlite) (3.10)\n",
      "Requirement already satisfied: h11>=0.16 in c:\\users\\cadup\\anaconda3\\lib\\site-packages (from httpcore==1.*->httpx<1,>=0.23.0->langsmith>=0.3.45->langchain-core>=0.2.38->langgraph-checkpoint>=2.0.21->langgraph-checkpoint-sqlite) (0.16.0)\n",
      "Requirement already satisfied: charset_normalizer<4,>=2 in c:\\users\\cadup\\anaconda3\\lib\\site-packages (from requests>=2.0.0->langsmith>=0.3.45->langchain-core>=0.2.38->langgraph-checkpoint>=2.0.21->langgraph-checkpoint-sqlite) (3.4.2)\n",
      "Requirement already satisfied: urllib3<3,>=1.21.1 in c:\\users\\cadup\\anaconda3\\lib\\site-packages (from requests>=2.0.0->langsmith>=0.3.45->langchain-core>=0.2.38->langgraph-checkpoint>=2.0.21->langgraph-checkpoint-sqlite) (2.5.0)\n",
      "Requirement already satisfied: sniffio>=1.1 in c:\\users\\cadup\\anaconda3\\lib\\site-packages (from anyio->httpx<1,>=0.23.0->langsmith>=0.3.45->langchain-core>=0.2.38->langgraph-checkpoint>=2.0.21->langgraph-checkpoint-sqlite) (1.3.1)\n",
      "Note: you may need to restart the kernel to use updated packages.\n"
     ]
    },
    {
     "name": "stderr",
     "output_type": "stream",
     "text": [
      "WARNING: Skipping c:\\Users\\cadup\\anaconda3\\Lib\\site-packages\\httpx-0.27.2.dist-info due to invalid metadata entry 'name'\n",
      "WARNING: Skipping c:\\Users\\cadup\\anaconda3\\Lib\\site-packages\\httpx-0.27.2.dist-info due to invalid metadata entry 'name'\n",
      "WARNING: Skipping c:\\Users\\cadup\\anaconda3\\Lib\\site-packages\\httpx-0.27.2.dist-info due to invalid metadata entry 'name'\n",
      "WARNING: Skipping c:\\Users\\cadup\\anaconda3\\Lib\\site-packages\\httpx-0.27.2.dist-info due to invalid metadata entry 'name'\n",
      "WARNING: Skipping c:\\Users\\cadup\\anaconda3\\Lib\\site-packages\\httpx-0.27.2.dist-info due to invalid metadata entry 'name'\n",
      "WARNING: Skipping c:\\Users\\cadup\\anaconda3\\Lib\\site-packages\\httpx-0.27.2.dist-info due to invalid metadata entry 'name'\n"
     ]
    },
    {
     "name": "stdout",
     "output_type": "stream",
     "text": [
      "Requirement already satisfied: langgraph in c:\\users\\cadup\\anaconda3\\lib\\site-packages (0.6.6)\n",
      "Requirement already satisfied: langgraph-checkpoint-sqlite in c:\\users\\cadup\\anaconda3\\lib\\site-packages (2.0.10)\n",
      "Requirement already satisfied: langchain-core>=0.1 in c:\\users\\cadup\\anaconda3\\lib\\site-packages (from langgraph) (0.3.74)\n",
      "Requirement already satisfied: langgraph-checkpoint<3.0.0,>=2.1.0 in c:\\users\\cadup\\anaconda3\\lib\\site-packages (from langgraph) (2.1.1)\n",
      "Requirement already satisfied: langgraph-prebuilt<0.7.0,>=0.6.0 in c:\\users\\cadup\\anaconda3\\lib\\site-packages (from langgraph) (0.6.3)\n",
      "Requirement already satisfied: langgraph-sdk<0.3.0,>=0.2.2 in c:\\users\\cadup\\anaconda3\\lib\\site-packages (from langgraph) (0.2.2)\n",
      "Requirement already satisfied: pydantic>=2.7.4 in c:\\users\\cadup\\anaconda3\\lib\\site-packages (from langgraph) (2.11.7)\n",
      "Requirement already satisfied: xxhash>=3.5.0 in c:\\users\\cadup\\anaconda3\\lib\\site-packages (from langgraph) (3.5.0)\n",
      "Requirement already satisfied: aiosqlite>=0.20 in c:\\users\\cadup\\anaconda3\\lib\\site-packages (from langgraph-checkpoint-sqlite) (0.21.0)\n",
      "Requirement already satisfied: sqlite-vec>=0.1.6 in c:\\users\\cadup\\anaconda3\\lib\\site-packages (from langgraph-checkpoint-sqlite) (0.1.6)\n",
      "Requirement already satisfied: typing_extensions>=4.0 in c:\\users\\cadup\\anaconda3\\lib\\site-packages (from aiosqlite>=0.20->langgraph-checkpoint-sqlite) (4.14.1)\n",
      "Requirement already satisfied: langsmith>=0.3.45 in c:\\users\\cadup\\anaconda3\\lib\\site-packages (from langchain-core>=0.1->langgraph) (0.4.13)\n",
      "Requirement already satisfied: tenacity!=8.4.0,<10.0.0,>=8.1.0 in c:\\users\\cadup\\anaconda3\\lib\\site-packages (from langchain-core>=0.1->langgraph) (8.5.0)\n",
      "Requirement already satisfied: jsonpatch<2.0,>=1.33 in c:\\users\\cadup\\anaconda3\\lib\\site-packages (from langchain-core>=0.1->langgraph) (1.33)\n",
      "Requirement already satisfied: PyYAML>=5.3 in c:\\users\\cadup\\anaconda3\\lib\\site-packages (from langchain-core>=0.1->langgraph) (6.0.2)\n",
      "Requirement already satisfied: packaging>=23.2 in c:\\users\\cadup\\anaconda3\\lib\\site-packages (from langchain-core>=0.1->langgraph) (24.2)\n",
      "Requirement already satisfied: ormsgpack>=1.10.0 in c:\\users\\cadup\\anaconda3\\lib\\site-packages (from langgraph-checkpoint<3.0.0,>=2.1.0->langgraph) (1.10.0)\n",
      "Requirement already satisfied: httpx>=0.25.2 in c:\\users\\cadup\\anaconda3\\lib\\site-packages (from langgraph-sdk<0.3.0,>=0.2.2->langgraph) (0.28.1)\n",
      "Requirement already satisfied: orjson>=3.10.1 in c:\\users\\cadup\\anaconda3\\lib\\site-packages (from langgraph-sdk<0.3.0,>=0.2.2->langgraph) (3.11.0)\n",
      "Requirement already satisfied: annotated-types>=0.6.0 in c:\\users\\cadup\\anaconda3\\lib\\site-packages (from pydantic>=2.7.4->langgraph) (0.7.0)\n",
      "Requirement already satisfied: pydantic-core==2.33.2 in c:\\users\\cadup\\anaconda3\\lib\\site-packages (from pydantic>=2.7.4->langgraph) (2.33.2)\n",
      "Requirement already satisfied: typing-inspection>=0.4.0 in c:\\users\\cadup\\anaconda3\\lib\\site-packages (from pydantic>=2.7.4->langgraph) (0.4.1)\n",
      "Requirement already satisfied: anyio in c:\\users\\cadup\\anaconda3\\lib\\site-packages (from httpx>=0.25.2->langgraph-sdk<0.3.0,>=0.2.2->langgraph) (4.9.0)\n",
      "Requirement already satisfied: certifi in c:\\users\\cadup\\anaconda3\\lib\\site-packages (from httpx>=0.25.2->langgraph-sdk<0.3.0,>=0.2.2->langgraph) (2025.7.14)\n",
      "Requirement already satisfied: httpcore==1.* in c:\\users\\cadup\\anaconda3\\lib\\site-packages (from httpx>=0.25.2->langgraph-sdk<0.3.0,>=0.2.2->langgraph) (1.0.9)\n",
      "Requirement already satisfied: idna in c:\\users\\cadup\\anaconda3\\lib\\site-packages (from httpx>=0.25.2->langgraph-sdk<0.3.0,>=0.2.2->langgraph) (3.10)\n",
      "Requirement already satisfied: h11>=0.16 in c:\\users\\cadup\\anaconda3\\lib\\site-packages (from httpcore==1.*->httpx>=0.25.2->langgraph-sdk<0.3.0,>=0.2.2->langgraph) (0.16.0)\n",
      "Requirement already satisfied: jsonpointer>=1.9 in c:\\users\\cadup\\anaconda3\\lib\\site-packages (from jsonpatch<2.0,>=1.33->langchain-core>=0.1->langgraph) (3.0.0)\n",
      "Requirement already satisfied: requests-toolbelt>=1.0.0 in c:\\users\\cadup\\anaconda3\\lib\\site-packages (from langsmith>=0.3.45->langchain-core>=0.1->langgraph) (1.0.0)\n",
      "Requirement already satisfied: requests>=2.0.0 in c:\\users\\cadup\\anaconda3\\lib\\site-packages (from langsmith>=0.3.45->langchain-core>=0.1->langgraph) (2.32.4)\n",
      "Requirement already satisfied: zstandard>=0.23.0 in c:\\users\\cadup\\anaconda3\\lib\\site-packages (from langsmith>=0.3.45->langchain-core>=0.1->langgraph) (0.23.0)\n",
      "Requirement already satisfied: charset_normalizer<4,>=2 in c:\\users\\cadup\\anaconda3\\lib\\site-packages (from requests>=2.0.0->langsmith>=0.3.45->langchain-core>=0.1->langgraph) (3.4.2)\n",
      "Requirement already satisfied: urllib3<3,>=1.21.1 in c:\\users\\cadup\\anaconda3\\lib\\site-packages (from requests>=2.0.0->langsmith>=0.3.45->langchain-core>=0.1->langgraph) (2.5.0)\n",
      "Requirement already satisfied: sniffio>=1.1 in c:\\users\\cadup\\anaconda3\\lib\\site-packages (from anyio->httpx>=0.25.2->langgraph-sdk<0.3.0,>=0.2.2->langgraph) (1.3.1)\n",
      "Note: you may need to restart the kernel to use updated packages.\n"
     ]
    },
    {
     "name": "stderr",
     "output_type": "stream",
     "text": [
      "WARNING: Skipping c:\\Users\\cadup\\anaconda3\\Lib\\site-packages\\httpx-0.27.2.dist-info due to invalid metadata entry 'name'\n",
      "WARNING: Skipping c:\\Users\\cadup\\anaconda3\\Lib\\site-packages\\httpx-0.27.2.dist-info due to invalid metadata entry 'name'\n",
      "WARNING: Skipping c:\\Users\\cadup\\anaconda3\\Lib\\site-packages\\httpx-0.27.2.dist-info due to invalid metadata entry 'name'\n",
      "WARNING: Skipping c:\\Users\\cadup\\anaconda3\\Lib\\site-packages\\httpx-0.27.2.dist-info due to invalid metadata entry 'name'\n",
      "WARNING: Skipping c:\\Users\\cadup\\anaconda3\\Lib\\site-packages\\httpx-0.27.2.dist-info due to invalid metadata entry 'name'\n",
      "WARNING: Skipping c:\\Users\\cadup\\anaconda3\\Lib\\site-packages\\httpx-0.27.2.dist-info due to invalid metadata entry 'name'\n"
     ]
    },
    {
     "name": "stdout",
     "output_type": "stream",
     "text": [
      "Requirement already satisfied: langgraph in c:\\users\\cadup\\anaconda3\\lib\\site-packages (0.6.6)\n",
      "Requirement already satisfied: langchain-core>=0.1 in c:\\users\\cadup\\anaconda3\\lib\\site-packages (from langgraph) (0.3.74)\n",
      "Requirement already satisfied: langgraph-checkpoint<3.0.0,>=2.1.0 in c:\\users\\cadup\\anaconda3\\lib\\site-packages (from langgraph) (2.1.1)\n",
      "Requirement already satisfied: langgraph-prebuilt<0.7.0,>=0.6.0 in c:\\users\\cadup\\anaconda3\\lib\\site-packages (from langgraph) (0.6.3)\n",
      "Requirement already satisfied: langgraph-sdk<0.3.0,>=0.2.2 in c:\\users\\cadup\\anaconda3\\lib\\site-packages (from langgraph) (0.2.2)\n",
      "Requirement already satisfied: pydantic>=2.7.4 in c:\\users\\cadup\\anaconda3\\lib\\site-packages (from langgraph) (2.11.7)\n",
      "Requirement already satisfied: xxhash>=3.5.0 in c:\\users\\cadup\\anaconda3\\lib\\site-packages (from langgraph) (3.5.0)\n",
      "Requirement already satisfied: langsmith>=0.3.45 in c:\\users\\cadup\\anaconda3\\lib\\site-packages (from langchain-core>=0.1->langgraph) (0.4.13)\n",
      "Requirement already satisfied: tenacity!=8.4.0,<10.0.0,>=8.1.0 in c:\\users\\cadup\\anaconda3\\lib\\site-packages (from langchain-core>=0.1->langgraph) (8.5.0)\n",
      "Requirement already satisfied: jsonpatch<2.0,>=1.33 in c:\\users\\cadup\\anaconda3\\lib\\site-packages (from langchain-core>=0.1->langgraph) (1.33)\n",
      "Requirement already satisfied: PyYAML>=5.3 in c:\\users\\cadup\\anaconda3\\lib\\site-packages (from langchain-core>=0.1->langgraph) (6.0.2)\n",
      "Requirement already satisfied: typing-extensions>=4.7 in c:\\users\\cadup\\anaconda3\\lib\\site-packages (from langchain-core>=0.1->langgraph) (4.14.1)\n",
      "Requirement already satisfied: packaging>=23.2 in c:\\users\\cadup\\anaconda3\\lib\\site-packages (from langchain-core>=0.1->langgraph) (24.2)\n",
      "Requirement already satisfied: ormsgpack>=1.10.0 in c:\\users\\cadup\\anaconda3\\lib\\site-packages (from langgraph-checkpoint<3.0.0,>=2.1.0->langgraph) (1.10.0)\n",
      "Requirement already satisfied: httpx>=0.25.2 in c:\\users\\cadup\\anaconda3\\lib\\site-packages (from langgraph-sdk<0.3.0,>=0.2.2->langgraph) (0.28.1)\n",
      "Requirement already satisfied: orjson>=3.10.1 in c:\\users\\cadup\\anaconda3\\lib\\site-packages (from langgraph-sdk<0.3.0,>=0.2.2->langgraph) (3.11.0)\n",
      "Requirement already satisfied: annotated-types>=0.6.0 in c:\\users\\cadup\\anaconda3\\lib\\site-packages (from pydantic>=2.7.4->langgraph) (0.7.0)\n",
      "Requirement already satisfied: pydantic-core==2.33.2 in c:\\users\\cadup\\anaconda3\\lib\\site-packages (from pydantic>=2.7.4->langgraph) (2.33.2)\n",
      "Requirement already satisfied: typing-inspection>=0.4.0 in c:\\users\\cadup\\anaconda3\\lib\\site-packages (from pydantic>=2.7.4->langgraph) (0.4.1)\n",
      "Requirement already satisfied: anyio in c:\\users\\cadup\\anaconda3\\lib\\site-packages (from httpx>=0.25.2->langgraph-sdk<0.3.0,>=0.2.2->langgraph) (4.9.0)\n",
      "Requirement already satisfied: certifi in c:\\users\\cadup\\anaconda3\\lib\\site-packages (from httpx>=0.25.2->langgraph-sdk<0.3.0,>=0.2.2->langgraph) (2025.7.14)\n",
      "Requirement already satisfied: httpcore==1.* in c:\\users\\cadup\\anaconda3\\lib\\site-packages (from httpx>=0.25.2->langgraph-sdk<0.3.0,>=0.2.2->langgraph) (1.0.9)\n",
      "Requirement already satisfied: idna in c:\\users\\cadup\\anaconda3\\lib\\site-packages (from httpx>=0.25.2->langgraph-sdk<0.3.0,>=0.2.2->langgraph) (3.10)\n",
      "Requirement already satisfied: h11>=0.16 in c:\\users\\cadup\\anaconda3\\lib\\site-packages (from httpcore==1.*->httpx>=0.25.2->langgraph-sdk<0.3.0,>=0.2.2->langgraph) (0.16.0)\n",
      "Requirement already satisfied: jsonpointer>=1.9 in c:\\users\\cadup\\anaconda3\\lib\\site-packages (from jsonpatch<2.0,>=1.33->langchain-core>=0.1->langgraph) (3.0.0)\n",
      "Requirement already satisfied: requests-toolbelt>=1.0.0 in c:\\users\\cadup\\anaconda3\\lib\\site-packages (from langsmith>=0.3.45->langchain-core>=0.1->langgraph) (1.0.0)\n",
      "Requirement already satisfied: requests>=2.0.0 in c:\\users\\cadup\\anaconda3\\lib\\site-packages (from langsmith>=0.3.45->langchain-core>=0.1->langgraph) (2.32.4)\n",
      "Requirement already satisfied: zstandard>=0.23.0 in c:\\users\\cadup\\anaconda3\\lib\\site-packages (from langsmith>=0.3.45->langchain-core>=0.1->langgraph) (0.23.0)\n",
      "Requirement already satisfied: charset_normalizer<4,>=2 in c:\\users\\cadup\\anaconda3\\lib\\site-packages (from requests>=2.0.0->langsmith>=0.3.45->langchain-core>=0.1->langgraph) (3.4.2)\n",
      "Requirement already satisfied: urllib3<3,>=1.21.1 in c:\\users\\cadup\\anaconda3\\lib\\site-packages (from requests>=2.0.0->langsmith>=0.3.45->langchain-core>=0.1->langgraph) (2.5.0)\n",
      "Requirement already satisfied: sniffio>=1.1 in c:\\users\\cadup\\anaconda3\\lib\\site-packages (from anyio->httpx>=0.25.2->langgraph-sdk<0.3.0,>=0.2.2->langgraph) (1.3.1)\n",
      "Note: you may need to restart the kernel to use updated packages.\n"
     ]
    },
    {
     "name": "stderr",
     "output_type": "stream",
     "text": [
      "WARNING: Skipping c:\\Users\\cadup\\anaconda3\\Lib\\site-packages\\httpx-0.27.2.dist-info due to invalid metadata entry 'name'\n",
      "WARNING: Skipping c:\\Users\\cadup\\anaconda3\\Lib\\site-packages\\httpx-0.27.2.dist-info due to invalid metadata entry 'name'\n",
      "WARNING: Skipping c:\\Users\\cadup\\anaconda3\\Lib\\site-packages\\httpx-0.27.2.dist-info due to invalid metadata entry 'name'\n",
      "WARNING: Skipping c:\\Users\\cadup\\anaconda3\\Lib\\site-packages\\httpx-0.27.2.dist-info due to invalid metadata entry 'name'\n",
      "WARNING: Skipping c:\\Users\\cadup\\anaconda3\\Lib\\site-packages\\httpx-0.27.2.dist-info due to invalid metadata entry 'name'\n",
      "WARNING: Skipping c:\\Users\\cadup\\anaconda3\\Lib\\site-packages\\httpx-0.27.2.dist-info due to invalid metadata entry 'name'\n"
     ]
    }
   ],
   "source": [
    "%pip install langchain langchain-google-genai langchain_community tavily-python aiosqlite langchain-tavily \n",
    "%pip install langgraph-checkpoint-sqlite \n",
    "%pip install langgraph langgraph-checkpoint-sqlite\n",
    "%pip install langgraph "
   ]
  },
  {
   "cell_type": "code",
   "execution_count": 2,
   "id": "37f1bb9f",
   "metadata": {},
   "outputs": [],
   "source": [
    "from langgraph.graph import StateGraph, END\n",
    "from typing import TypedDict, Annotated, List\n",
    "import operator\n",
    "from langgraph.checkpoint.sqlite import SqliteSaver\n",
    "from langchain_core.messages import AnyMessage, SystemMessage, HumanMessage, AIMessage, ChatMessage\n",
    "\n",
    "import sqlite3 \n",
    "from langgraph.checkpoint.sqlite import SqliteSaver \n",
    "conn = sqlite3.connect(\"checkpoints.db\", check_same_thread=False) \n",
    "memory = SqliteSaver(conn)"
   ]
  },
  {
   "cell_type": "code",
   "execution_count": 3,
   "id": "ef4d6db2",
   "metadata": {},
   "outputs": [],
   "source": [
    "import google.generativeai as genai\n",
    "import os\n",
    "from dotenv import load_dotenv\n",
    "\n",
    "load_dotenv()\n",
    "\n",
    "os.environ['GOOGLE_API_KEY'] = os.getenv('GEMINI_API_KEY') \n",
    "os.environ['TAVILY_API_KEY'] = os.getenv('TAVILY_API_KEY')"
   ]
  },
  {
   "cell_type": "code",
   "execution_count": null,
   "id": "789ce62e",
   "metadata": {},
   "outputs": [],
   "source": [
    "from typing import TypedDict, List\n",
    "\n",
    "class AgentState(TypedDict):\n",
    "    task: str\n",
    "    plan: str\n",
    "    draft: str\n",
    "    critique: str\n",
    "    content: List[str]\n",
    "    revision_number: int\n",
    "    max_revisions: int"
   ]
  },
  {
   "cell_type": "code",
   "execution_count": 5,
   "id": "07af6fad",
   "metadata": {},
   "outputs": [],
   "source": [
    "from langchain_google_genai import ChatGoogleGenerativeAI\n",
    "\n",
    "model = ChatGoogleGenerativeAI(model=\"gemini-1.5-flash\", temperature=0)"
   ]
  },
  {
   "cell_type": "code",
   "execution_count": 6,
   "id": "21b73398",
   "metadata": {},
   "outputs": [],
   "source": [
    "PLAN_PROMPT = \"\"\"Você é um escritor especialista com a tarefa de criar um esboço de alto nível para uma redação. \\\n",
    "Escreva esse esboço para o tópico fornecido pelo usuário. Apresente um plano da redação junto com quaisquer notas \\\n",
    "ou instruções relevantes para as seções.\"\"\""
   ]
  },
  {
   "cell_type": "code",
   "execution_count": 7,
   "id": "ab9ab0b0",
   "metadata": {},
   "outputs": [],
   "source": [
    "WRITER_PROMPT = \"\"\"Você é um assistente de redação com a tarefa de escrever excelentes redações de 5 parágrafos. \\\n",
    "Gere a melhor redação possível para a solicitação do usuário e o esboço inicial. \\\n",
    "Se o usuário fornecer críticas, responda com uma versão revisada das suas tentativas anteriores. \\\n",
    "Utilize todas as informações abaixo conforme necessário:\n",
    "\n",
    "------\n",
    "\n",
    "{content}\"\"\""
   ]
  },
  {
   "cell_type": "code",
   "execution_count": null,
   "id": "99501f53",
   "metadata": {},
   "outputs": [],
   "source": [
    "REFLECTION_PROMPT = \"\"\"Você é um professor corrigindo uma redação submetida. \\\n",
    "Gere uma crítica e recomendações para a submissão do usuário. \\\n",
    "Forneça recomendações detalhadas, incluindo pedidos sobre extensão, profundidade, estilo, etc.\"\"\"\n"
   ]
  },
  {
   "cell_type": "code",
   "execution_count": 9,
   "id": "9d7aa6f9",
   "metadata": {},
   "outputs": [],
   "source": [
    "RESEARCH_PLAN_PROMPT = \"\"\"Você é um pesquisador encarregado de fornecer informações que podem \\\n",
    "ser usadas ao escrever a seguinte redação. Gere uma lista de consultas de pesquisa que \\\n",
    "recolham quaisquer informações relevantes. Gere no máximo 3 consultas.\"\"\"\n"
   ]
  },
  {
   "cell_type": "code",
   "execution_count": 10,
   "id": "01abe2d3",
   "metadata": {},
   "outputs": [],
   "source": [
    "RESEARCH_CRITIQUE_PROMPT = \"\"\"Você é um pesquisador encarregado de fornecer informações que podem \\\n",
    "ser usadas ao fazer quaisquer revisões solicitadas (conforme descrito abaixo). \\\n",
    "Gere uma lista de consultas de pesquisa que recolham quaisquer informações relevantes. Gere no máximo 3 consultas.\"\"\"\n"
   ]
  },
  {
   "cell_type": "code",
   "execution_count": 11,
   "id": "23f83e48",
   "metadata": {},
   "outputs": [
    {
     "name": "stderr",
     "output_type": "stream",
     "text": [
      "c:\\Users\\cadup\\anaconda3\\Lib\\site-packages\\IPython\\core\\interactiveshell.py:3553: LangChainDeprecationWarning: As of langchain-core 0.3.0, LangChain uses pydantic v2 internally. The langchain_core.pydantic_v1 module was a compatibility shim for pydantic v1, and should no longer be used. Please update the code to import from Pydantic directly.\n",
      "\n",
      "For example, replace imports like: `from langchain_core.pydantic_v1 import BaseModel`\n",
      "with: `from pydantic import BaseModel`\n",
      "or the v1 compatibility namespace if you are working in a code base that has not been fully upgraded to pydantic 2 yet. \tfrom pydantic.v1 import BaseModel\n",
      "\n",
      "  exec(code_obj, self.user_global_ns, self.user_ns)\n"
     ]
    }
   ],
   "source": [
    "from langchain_core.pydantic_v1 import BaseModel\n",
    "\n",
    "class Queries(BaseModel):\n",
    "    queries: List[str]"
   ]
  },
  {
   "cell_type": "code",
   "execution_count": 12,
   "id": "8e3d9c19",
   "metadata": {},
   "outputs": [
    {
     "name": "stdout",
     "output_type": "stream",
     "text": [
      "sagemaker.config INFO - Not applying SDK defaults from location: C:\\ProgramData\\sagemaker\\sagemaker\\config.yaml\n",
      "sagemaker.config INFO - Not applying SDK defaults from location: C:\\Users\\cadup\\AppData\\Local\\sagemaker\\sagemaker\\config.yaml\n"
     ]
    }
   ],
   "source": [
    "from tavily import TavilyClient\n",
    "import os\n",
    "tavily = TavilyClient(api_key=os.environ[\"TAVILY_API_KEY\"])"
   ]
  },
  {
   "cell_type": "code",
   "execution_count": 20,
   "id": "5fd12b7c",
   "metadata": {},
   "outputs": [],
   "source": [
    "def plan_node(state: AgentState):\n",
    "    messages = [\n",
    "        SystemMessage(content=PLAN_PROMPT), \n",
    "        HumanMessage(content=state['task'])\n",
    "    ]\n",
    "    response = model.invoke(messages)\n",
    "    return {\"plan\": response.content}"
   ]
  },
  {
   "cell_type": "code",
   "execution_count": 13,
   "id": "01c32233",
   "metadata": {},
   "outputs": [],
   "source": [
    "def research_plan_node(state: AgentState):\n",
    "    queries = model.with_structured_output(Queries).invoke([\n",
    "        SystemMessage(content=RESEARCH_PLAN_PROMPT),\n",
    "        HumanMessage(content=state['task'])\n",
    "    ])\n",
    "    content = state['content'] or []\n",
    "    for q in queries.queries:\n",
    "        response = tavily.search(query=q, max_results=2)\n",
    "        for r in response['results']:\n",
    "            content.append(r['content'])\n",
    "    return {\"content\": content}"
   ]
  },
  {
   "cell_type": "code",
   "execution_count": 14,
   "id": "6d70109f",
   "metadata": {},
   "outputs": [],
   "source": [
    "def generation_node(state: AgentState):\n",
    "    content = \"\\n\\n\".join(state['content'] or [])\n",
    "    user_message = HumanMessage(\n",
    "        content=f\"{state['task']}\\n\\nHere is my plan:\\n\\n{state['plan']}\")\n",
    "    messages = [\n",
    "        SystemMessage(\n",
    "            content=WRITER_PROMPT.format(content=content)\n",
    "        ),\n",
    "        user_message\n",
    "        ]\n",
    "    response = model.invoke(messages)\n",
    "    return {\n",
    "        \"draft\": response.content, \n",
    "        \"revision_number\": state.get(\"revision_number\", 1) + 1\n",
    "    }\n"
   ]
  },
  {
   "cell_type": "code",
   "execution_count": 15,
   "id": "e1e2b6fd",
   "metadata": {},
   "outputs": [],
   "source": [
    "def reflection_node(state: AgentState):\n",
    "    messages = [\n",
    "        SystemMessage(content=REFLECTION_PROMPT), \n",
    "        HumanMessage(content=state['draft'])\n",
    "    ]\n",
    "    response = model.invoke(messages)\n",
    "    return {\"critique\": response.content}"
   ]
  },
  {
   "cell_type": "code",
   "execution_count": 16,
   "id": "0c53d869",
   "metadata": {},
   "outputs": [],
   "source": [
    "def research_critique_node(state: AgentState):\n",
    "    queries = model.with_structured_output(Queries).invoke([\n",
    "        SystemMessage(content=RESEARCH_CRITIQUE_PROMPT),\n",
    "        HumanMessage(content=state['critique'])\n",
    "    ])\n",
    "    content = state['content'] or []\n",
    "    for q in queries.queries:\n",
    "        response = tavily.search(query=q, max_results=2)\n",
    "        for r in response['results']:\n",
    "            content.append(r['content'])\n",
    "    return {\"content\": content}"
   ]
  },
  {
   "cell_type": "code",
   "execution_count": 17,
   "id": "9a4de733",
   "metadata": {},
   "outputs": [],
   "source": [
    "def should_continue(state):\n",
    "    if state[\"revision_number\"] > state[\"max_revisions\"]:\n",
    "        return END\n",
    "    return \"reflect\""
   ]
  },
  {
   "cell_type": "code",
   "execution_count": 18,
   "id": "db5901fa",
   "metadata": {},
   "outputs": [],
   "source": [
    "builder = StateGraph(AgentState)"
   ]
  },
  {
   "cell_type": "code",
   "execution_count": 21,
   "id": "6106c88e",
   "metadata": {},
   "outputs": [
    {
     "data": {
      "text/plain": [
       "<langgraph.graph.state.StateGraph at 0x2461396c150>"
      ]
     },
     "execution_count": 21,
     "metadata": {},
     "output_type": "execute_result"
    }
   ],
   "source": [
    "builder.add_node(\"planner\", plan_node)\n",
    "builder.add_node(\"generate\", generation_node)\n",
    "builder.add_node(\"reflect\", reflection_node)\n",
    "builder.add_node(\"research_plan\", research_plan_node)\n",
    "builder.add_node(\"research_critique\", research_critique_node)"
   ]
  },
  {
   "cell_type": "code",
   "execution_count": 27,
   "id": "33273fdf",
   "metadata": {},
   "outputs": [
    {
     "data": {
      "text/plain": [
       "<langgraph.graph.state.StateGraph at 0x2461396c150>"
      ]
     },
     "execution_count": 27,
     "metadata": {},
     "output_type": "execute_result"
    }
   ],
   "source": [
    "builder.set_entry_point(\"planner\")"
   ]
  },
  {
   "cell_type": "code",
   "execution_count": 28,
   "id": "f2dbb5e1",
   "metadata": {},
   "outputs": [
    {
     "data": {
      "text/plain": [
       "<langgraph.graph.state.StateGraph at 0x2461396c150>"
      ]
     },
     "execution_count": 28,
     "metadata": {},
     "output_type": "execute_result"
    }
   ],
   "source": [
    "builder.add_conditional_edges(\n",
    "    \"generate\", \n",
    "    should_continue, \n",
    "    {END: END, \"reflect\": \"reflect\"}\n",
    ")\n"
   ]
  },
  {
   "cell_type": "code",
   "execution_count": 29,
   "id": "b5f31873",
   "metadata": {},
   "outputs": [
    {
     "data": {
      "text/plain": [
       "<langgraph.graph.state.StateGraph at 0x2461396c150>"
      ]
     },
     "execution_count": 29,
     "metadata": {},
     "output_type": "execute_result"
    }
   ],
   "source": [
    "builder.add_edge(\"planner\", \"research_plan\")\n",
    "builder.add_edge(\"research_plan\", \"generate\")\n",
    "\n",
    "builder.add_edge(\"reflect\", \"research_critique\")\n",
    "builder.add_edge(\"research_critique\", \"generate\")"
   ]
  },
  {
   "cell_type": "code",
   "execution_count": 30,
   "id": "13d15773",
   "metadata": {},
   "outputs": [],
   "source": [
    "graph = builder.compile(checkpointer=memory)"
   ]
  },
  {
   "cell_type": "code",
   "execution_count": 31,
   "id": "723ebf81",
   "metadata": {},
   "outputs": [
    {
     "name": "stdout",
     "output_type": "stream",
     "text": [
      "\n",
      "--- Tentando Gerar PNG do Grafo via Mermaid (Requer Playwright!) ---\n"
     ]
    },
    {
     "data": {
      "image/png": "[encoded data removed]",
      "text/plain": [
       "<IPython.core.display.Image object>"
      ]
     },
     "metadata": {},
     "output_type": "display_data"
    },
    {
     "name": "stdout",
     "output_type": "stream",
     "text": [
      "Grafo PNG gerado e exibido com sucesso!\n"
     ]
    }
   ],
   "source": [
    "from IPython.display import Image, display, Markdown\n",
    "import os\n",
    "\n",
    "print(\"\\n--- Tentando Gerar PNG do Grafo via Mermaid (Requer Playwright!) ---\")\n",
    "try:\n",
    "\n",
    "    image_data = graph.get_graph().draw_mermaid_png()\n",
    "    display(Image(data=image_data))\n",
    "    print(\"Grafo PNG gerado e exibido com sucesso!\")\n",
    "\n",
    "except Exception as e:\n",
    "\n",
    "    print(f\"\\nErro ao tentar gerar o PNG do grafo: {e}\")\n",
    "    print(\"Isso pode ocorrer por:\")\n",
    "    print(\"1. O método `.draw_mermaid_png()` não existe na sua versão do LangGraph.\")\n",
    "    print(\"2. Faltam dependências como 'playwright' ou seus drivers não foram instalados.\")\n",
    "    print(\"   Tente: pip install playwright && playwright install\")\n",
    "    print(\"3. Outro erro inesperado ao acessar o grafo ou renderizar.\")\n",
    "\n",
    "    print(\"\\n--- Tentando gerar apenas o código Mermaid (Fallback) ---\")\n",
    "    try:\n",
    "\n",
    "        mermaid_code = graph.get_graph().draw_mermaid()\n",
    "        print(\"\\n--- Código Mermaid Gerado (Cole em https://mermaid.live/ ou use Markdown no notebook) ---\")\n",
    "        print(mermaid_code)\n",
    "\n",
    "    except Exception as e_mermaid:\n",
    "        print(f\"Erro ao gerar código Mermaid: {e_mermaid}\")\n",
    "        print(\"Verifique se 'graph.get_graph()' está correto e acessível.\")"
   ]
  },
  {
   "cell_type": "code",
   "execution_count": 32,
   "id": "5c20ac14",
   "metadata": {},
   "outputs": [
    {
     "name": "stdout",
     "output_type": "stream",
     "text": [
      "{'planner': {'plan': 'Aqui está um esboço de nível superior para uma redação que compara e contrasta o LangChain e o LangSmith:\\n\\n**I. Introdução**\\n\\n*   Comece definindo brevemente o LangChain e o LangSmith.\\n*   Mencione que ambos são ferramentas importantes no ecossistema de IA de linguagem grande (LLM), mas servem a propósitos diferentes.\\n*   Declare o objetivo da redação: comparar e contrastar suas funcionalidades, vantagens e desvantagens.\\n\\n**II. LangChain: Uma visão geral**\\n\\n*   Defina o LangChain como um framework para construir aplicativos com LLMs.\\n*   Destaque suas principais funcionalidades:\\n    *   Integração com vários LLMs (OpenAI, Hugging Face, etc.)\\n    *   Cadeias de modelos para orquestrar diferentes LLMs e componentes.\\n    *   Memória para manter o contexto em conversas.\\n    *   Indexação e busca para acessar e processar dados externos.\\n*   Discuta os casos de uso do LangChain:\\n    *   Chatbots\\n    *   Assistentes virtuais\\n    *   Sistemas de recomendação\\n    *   Processamento de linguagem natural (PNL)\\n\\n**III. LangSmith: Uma visão geral**\\n\\n*   Defina o LangSmith como uma plataforma de monitoramento e depuração para aplicativos de LLM.\\n*   Destaque suas principais funcionalidades:\\n    *   Monitoramento de desempenho do modelo.\\n    *   Depuração de erros e problemas.\\n    *   Compartilhamento e colaboração de experimentos.\\n    *   Testes e avaliação de modelos.\\n*   Discuta os casos de uso do LangSmith:\\n    *   Monitoramento de desempenho de aplicativos de LLM em produção.\\n    *   Identificação e resolução de problemas em modelos de LLM.\\n    *   Compartilhamento de resultados de experimentos com a equipe.\\n    *   Melhoria da qualidade e confiabilidade dos modelos de LLM.\\n\\n**IV. Comparação e contraste**\\n\\n*   Crie uma tabela que compare e contraste o LangChain e o LangSmith com base em:\\n    *   Objetivo principal\\n    *   Funcionalidades principais\\n    *   Público-alvo\\n    *   Integrações\\n    *   Vantagens e desvantagens\\n*   Discuta as diferenças em seus casos de uso e como eles se complementam.\\n\\n**V. Conclusão**\\n\\n*   Resuma as principais diferenças entre o LangChain e o LangSmith.\\n*   Reitere que eles são ferramentas complementares para o desenvolvimento e implantação de aplicativos de LLM.\\n*   Ofereça uma visão geral de quando usar cada ferramenta.\\n\\n**Notas e instruções:**\\n\\n*   Use exemplos concretos para ilustrar as funcionalidades de cada ferramenta.\\n*   Inclua capturas de tela ou diagramas para tornar a redação mais visualmente atraente.\\n*   Mantenha um tom objetivo e imparcial ao comparar e contrastar as duas ferramentas.\\n*   Use uma linguagem clara e concisa para tornar a redação acessível a um público amplo.\\n*   Verifique a precisão das informações e cite as fontes apropriadas.\\n\\n\\nEste esboço fornece uma estrutura para uma redação abrangente que compara e contrasta o LangChain e o LangSmith. Lembre-se de expandir cada seção com detalhes e exemplos para criar uma redação informativa e envolvente.'}}\n",
      "{'research_plan': {'content': ['If you’re responsible for ensuring your AI models work in production, or you need to frequently debug and monitor your pipelines, Langsmith is your go-to tool. In short, while **Langchain** excels at managing and scaling model workflows, **Langsmith** is designed for those times when you need deep visibility and control over large, complex AI systems in production. If you’re debugging complex AI models or managing large-scale workflows with multiple moving parts, **Langsmith’s advanced debugging and orchestration features** will be indispensable. Additionally, if you’re working on **cross-platform model deployments** — say, running models on-prem and in the cloud simultaneously — Langsmith offers better orchestration and monitoring tools to handle the complexity.', 'LangChain and LangSmith are two powerful tools developed by LangChain, a company focused on making it easier to build and deploy Large Language Model (LLM) applications. 1. Limited Scalability: LangChain is not designed for large-scale production environments, making it less suitable for complex, high-traffic applications. 1. Comprehensive Platform: LangSmith offers a unified platform for managing all aspects of LLM development, making it ideal for large-scale, production-ready applications. LangChain and LangSmith are two complementary tools that cater to different stages and requirements of LLM development. LangChain is ideal for early-stage prototyping and small-scale applications, while LangSmith is better suited for large-scale, production-ready applications that require advanced debugging, testing, and monitoring capabilities. ## Understanding LangChain Tools and Agents: A Guide to Building Smart AI Applications']}}\n",
      "{'generate': {'draft': 'Aqui está uma redação de 5 parágrafos que compara e contrasta o LangChain e o LangSmith, seguindo o esboço fornecido:\\n\\n**LangChain vs. LangSmith: Duas Ferramentas Essenciais para o Desenvolvimento de Aplicações de LLM**\\n\\nO LangChain e o LangSmith são duas ferramentas poderosas desenvolvidas pela empresa LangChain, ambas focadas em simplificar o desenvolvimento e a implantação de aplicações de modelos de linguagem grandes (LLMs).  Embora trabalhem em conjunto, elas atendem a necessidades distintas no ciclo de vida do desenvolvimento. O LangChain é um framework para construir aplicativos com LLMs, enquanto o LangSmith é uma plataforma dedicada ao monitoramento, depuração e colaboração em projetos de LLM. Esta redação explorará as funcionalidades, vantagens e desvantagens de cada ferramenta, destacando suas diferenças e como elas se complementam.\\n\\nO LangChain fornece uma estrutura robusta para a construção de aplicativos baseados em LLMs.  Ele oferece integração com diversos modelos, incluindo OpenAI, Hugging Face e outros, permitindo aos desenvolvedores escolher o modelo mais adequado para suas necessidades.  Sua funcionalidade de \"cadeias de modelos\" permite orquestrar diferentes LLMs e componentes, criando fluxos de trabalho complexos.  Recursos como memória e indexação permitem que os aplicativos mantenham o contexto em conversas e acessem dados externos, expandindo significativamente suas capacidades.  O LangChain é ideal para prototipagem rápida e desenvolvimento de aplicativos de pequena a média escala, como chatbots, assistentes virtuais e sistemas de recomendação.\\n\\nEm contraste, o LangSmith foca na fase de produção e manutenção de aplicativos de LLM.  Ele oferece recursos avançados de monitoramento de desempenho, permitindo aos desenvolvedores rastrear métricas-chave e identificar potenciais problemas.  Suas ferramentas de depuração facilitam a identificação e resolução de erros, enquanto a capacidade de compartilhar e colaborar em experimentos agiliza o processo de desenvolvimento.  O LangSmith também inclui recursos de teste e avaliação de modelos, garantindo a qualidade e confiabilidade dos aplicativos em produção.  Sua força reside na gestão de sistemas complexos e na resolução de problemas em larga escala, tornando-se essencial para implantações robustas e escaláveis.\\n\\nA principal diferença entre o LangChain e o LangSmith reside em seu foco: o LangChain é sobre *construção*, enquanto o LangSmith é sobre *monitoramento e depuração*.  O LangChain é ideal para o desenvolvimento inicial e prototipagem, oferecendo flexibilidade e integração com diversos modelos.  Já o LangSmith é crucial para a fase de produção, fornecendo as ferramentas necessárias para garantir a estabilidade, desempenho e confiabilidade dos aplicativos em larga escala.  Eles são ferramentas complementares, com o LangChain facilitando a criação e o LangSmith assegurando a operação eficiente e confiável dos aplicativos resultantes.\\n\\nEm resumo, o LangChain e o LangSmith são ferramentas essenciais para o desenvolvimento completo de aplicações de LLM.  O LangChain facilita a construção e prototipagem, enquanto o LangSmith garante a operação eficiente e confiável em produção.  A combinação de ambos permite aos desenvolvedores criar e implantar aplicativos de LLM robustos, escaláveis e de alta qualidade, desde a concepção até a manutenção contínua.  A escolha da ferramenta dependerá da fase do projeto: o LangChain para o desenvolvimento e o LangSmith para a operação e manutenção em produção.', 'revision_number': 2}}\n",
      "{'reflect': {'critique': 'This is a good start to a comparative essay on LangChain and LangSmith.  The structure is clear, and you effectively highlight the core differences between the two tools. However, there\\'s room for significant improvement in depth, analysis, and overall impact.\\n\\n**Critique:**\\n\\n* **Lack of Depth:** While you mention key features of each tool, you don\\'t delve deep enough into their functionalities.  For example, you mention \"chains\" in LangChain, but don\\'t explain different chain types or their practical applications. Similarly, the description of LangSmith\\'s debugging and monitoring features is superficial.  Specific examples of metrics tracked, debugging techniques supported, or collaboration features would significantly enhance the essay.\\n\\n* **Superficial Comparison:** The comparison is largely descriptive rather than analytical. You state their differences but don\\'t explore the implications of these differences.  For instance, how does the flexibility of LangChain impact the complexity of debugging in LangSmith?  What are the trade-offs between rapid prototyping with LangChain and the rigorous testing offered by LangSmith?  A deeper analysis of these interdependencies would strengthen the essay.\\n\\n* **Limited Examples:** The essay lacks concrete examples to illustrate the points made.  Providing specific use cases for each tool would make the concepts more accessible and engaging.  For example, you could describe a scenario where LangChain is used to build a chatbot and then explain how LangSmith would be used to monitor its performance and identify issues.\\n\\n* **Repetitive Language:** The essay uses similar phrasing repeatedly (e.g., \"robust,\" \"powerful,\" \"scalable\").  More varied and precise language would improve the overall quality.\\n\\n* **Missing Target Audience:** The essay doesn\\'t clearly define its target audience.  Is it aimed at experienced developers, aspiring developers, or a general audience?  Tailoring the language and level of detail to a specific audience would improve clarity and impact.\\n\\n\\n**Recommendations:**\\n\\n1. **Expand the Length:** Aim for at least 7-8 paragraphs to allow for a more in-depth exploration of each tool and their comparative aspects.\\n\\n2. **Increase Depth of Analysis:**  For each feature mentioned, provide concrete examples and explain its practical implications.  Discuss different types of chains in LangChain, specific metrics tracked in LangSmith, and the types of debugging tools available.\\n\\n3. **Strengthen the Comparative Analysis:**  Instead of simply stating differences, analyze the trade-offs and interdependencies between the two tools.  Explore how the choices made during development with LangChain impact the subsequent use of LangSmith.\\n\\n4. **Include Concrete Examples:**  Provide at least two detailed examples of how LangChain and LangSmith would be used in real-world scenarios.  This will make the essay more engaging and easier to understand.\\n\\n5. **Refine the Language:**  Use more precise and varied language.  Avoid repetition and strive for clarity and conciseness.\\n\\n6. **Define the Target Audience:**  Consider who you are writing this essay for and tailor the language and level of detail accordingly.\\n\\n7. **Add a Conclusion that Summarizes Key Insights:** The current conclusion is somewhat repetitive.  Instead, summarize the key takeaways from the comparison, highlighting the unique strengths of each tool and their synergistic relationship.  Perhaps discuss future trends or potential integrations.\\n\\n\\nBy addressing these recommendations, you can transform your essay from a descriptive overview into a compelling and insightful analysis of LangChain and LangSmith.  Remember to focus on demonstrating a deep understanding of the tools and their practical applications.'}}\n",
      "{'research_critique': {'content': ['If you’re responsible for ensuring your AI models work in production, or you need to frequently debug and monitor your pipelines, Langsmith is your go-to tool. In short, while **Langchain** excels at managing and scaling model workflows, **Langsmith** is designed for those times when you need deep visibility and control over large, complex AI systems in production. If you’re debugging complex AI models or managing large-scale workflows with multiple moving parts, **Langsmith’s advanced debugging and orchestration features** will be indispensable. Additionally, if you’re working on **cross-platform model deployments** — say, running models on-prem and in the cloud simultaneously — Langsmith offers better orchestration and monitoring tools to handle the complexity.', 'LangChain and LangSmith are two powerful tools developed by LangChain, a company focused on making it easier to build and deploy Large Language Model (LLM) applications. 1. Limited Scalability: LangChain is not designed for large-scale production environments, making it less suitable for complex, high-traffic applications. 1. Comprehensive Platform: LangSmith offers a unified platform for managing all aspects of LLM development, making it ideal for large-scale, production-ready applications. LangChain and LangSmith are two complementary tools that cater to different stages and requirements of LLM development. LangChain is ideal for early-stage prototyping and small-scale applications, while LangSmith is better suited for large-scale, production-ready applications that require advanced debugging, testing, and monitoring capabilities. ## Understanding LangChain Tools and Agents: A Guide to Building Smart AI Applications', 'In LLM application development, LangChain and LangSmith have become central tools for building and managing large language model-powered solutions. This article compares LangChain and LangSmith, focusing on their core features, integration options, and value for developers in the LLM application space. LangChain is an open-source framework that helps developers create LLM applications efficiently. LangSmith provides tools to debug, monitor, and improve LLM-powered agents, and offers a managed cloud service with a web UI. | LLM Evaluation | Minimal built-in support; developers typically create custom logic or use external tools. | Key Features | Modular chains and sequences, prompt templates, agent framework, data connectors, wide model support, community integrations. LangChain provides building blocks for LLM applications, while LangSmith offers observability and evaluation.', 'LangChain and LangSmith are two powerful tools developed by LangChain, a company focused on making it easier to build and deploy Large Language Model (LLM) applications. 1. Limited Scalability: LangChain is not designed for large-scale production environments, making it less suitable for complex, high-traffic applications. 1. Comprehensive Platform: LangSmith offers a unified platform for managing all aspects of LLM development, making it ideal for large-scale, production-ready applications. LangChain and LangSmith are two complementary tools that cater to different stages and requirements of LLM development. LangChain is ideal for early-stage prototyping and small-scale applications, while LangSmith is better suited for large-scale, production-ready applications that require advanced debugging, testing, and monitoring capabilities. ## Understanding LangChain Tools and Agents: A Guide to Building Smart AI Applications', 'One of the most popular LangChain usecases is building conversational chatbots that remember user preferences, prior questions, and interactions over time. By using LangChain to manage memory across sessions, developers can build assistants that recall past decisions, store user intent, and personalize experiences. Retrieval-Augmented Generation (RAG) is one of the most important LangChain usecases, enabling LLMs to answer questions based on your own data. These LangChain usecases improve developer productivity and reduce onboarding time for junior engineers. LangChain enables LLM agents to summarize and generate content and execute actions based on user inputs. These LangChain usecases are ideal for personal productivity tools, internal dashboards, and assistant-style bots. From smart chatbots to multi-agent research teams, the range of LangChain usecases continues to grow across every industry.', 'Extract & Load Reliable database and API replication at any scale AI / LLM ready data Embeddings from unstructured data Connector builder Build a new connector in 10 min PyAirbyte The power of Airbyte to every Python developer Code understanding is among the most important LangChain use cases. LangChain provides the capabilities to perform operations on this data using natural language, making querying tabular data one of the essential LangChain use cases. For this LangChain use case, you must first create a summarizer that extracts data from research papers. It can enable you to interact with APIs, understand complex code, query and extract data, perform automated reviews, and build AI applications like chatbots.', '* Understand the importance of observability in LLM applications and how to implement it using LangSmith for real-time monitoring and debugging. LangSmith is a state-of-the-art testing framework designed for the evaluation of language models and AI applications, with a particular emphasis on creating production-grade LLM applications. Setting LANGCHAIN\\\\_TRACING\\\\_V2 to true enables tracing (logging), which is essential for debugging LLMs. Once you run the create\\\\_project command successfully, you will see the project listed in the Projects section of the LangSmith web UI. This code snippet demonstrates AI-assisted feedback, where an LLM (GPT-3.5-turbo) scores each run’s input based on several metrics (relevance, difficulty, verbosity, and specificity). By utilizing LangSmith’s monitoring, evaluation, debugging, testing, tracing, and observability functions, developers and businesses can significantly improve their model’s performance and reliability.', 'LangSmith Performance cookies are used to understand and analyze the key performance indexes of the website which helps in delivering a better user experience for the visitors. LangSmith is a unified observability & evals platform where teams can debug, test, and monitor AI app performance — whether building with LangChain or not. Evaluate your app by saving production traces to datasets — then score performance with LLM-as-Judge evaluators. LangSmith traces contain the full information of all the inputs and outputs of each step of the application, giving users full visibility into their agent or LLM app behavior. LangSmith also allows users to instantly run evals to assess agent or LLM app performance — including LLM-as-Judge evaluators for auto-scoring and the ability to attach human feedback.']}}\n",
      "{'generate': {'draft': 'Aqui está uma redação de 5 parágrafos que compara e contrasta o LangChain e o LangSmith, seguindo o esboço fornecido:\\n\\n**I. Introdução**\\n\\nLangChain e LangSmith são duas ferramentas poderosas desenvolvidas pela LangChain, Inc., que desempenham papéis distintos, mas complementares, no desenvolvimento e implantação de aplicativos de modelos de linguagem grandes (LLMs).  O LangChain é um framework de código aberto que facilita a construção de aplicativos com LLMs, fornecendo blocos de construção para orquestrar diferentes modelos e componentes.  Já o LangSmith é uma plataforma de observabilidade e avaliação projetada para monitorar, depurar e melhorar o desempenho de aplicativos de LLM em produção.  Esta redação compara e contrasta as funcionalidades, vantagens e desvantagens de cada ferramenta, esclarecendo seus respectivos usos e como eles se integram para um desenvolvimento de LLM mais eficiente.\\n\\n**II. LangChain: Uma visão geral**\\n\\nO LangChain atua como um framework modular para construir aplicativos baseados em LLMs.  Sua principal força reside na capacidade de conectar diferentes modelos, componentes e dados, permitindo a criação de fluxos de trabalho complexos.  Ele oferece integrações com diversos LLMs, como OpenAI, Hugging Face e outros, além de recursos como cadeias de modelos para orquestrar diferentes etapas de processamento, mecanismos de memória para manter o contexto em conversas e integrações com bancos de dados para acesso a informações externas.  Casos de uso comuns incluem a construção de chatbots conversacionais, assistentes virtuais, sistemas de recomendação e ferramentas de processamento de linguagem natural (PNL) mais sofisticadas.  A flexibilidade do LangChain o torna ideal para prototipagem e desenvolvimento de aplicativos em escala menor.\\n\\n**III. LangSmith: Uma visão geral**\\n\\nEm contraste com o LangChain, o LangSmith foca na observabilidade e avaliação de aplicativos de LLM já construídos.  Ele fornece uma plataforma completa para monitorar o desempenho, depurar problemas e melhorar a qualidade dos modelos em produção.  Suas funcionalidades incluem o rastreamento de execuções, a visualização de dados de desempenho, ferramentas de depuração avançadas, a capacidade de executar testes automatizados e a avaliação de modelos usando métricas personalizadas ou LLMs como \"juízes\".  O LangSmith permite a colaboração em equipe, facilitando o compartilhamento de resultados de experimentos e a identificação de áreas de melhoria.  Seu foco principal é garantir a confiabilidade, a escalabilidade e o desempenho de aplicativos de LLM em ambientes de produção complexos.\\n\\n**IV. Comparação e Contraste**\\n\\n| Característica          | LangChain                               | LangSmith                                      |\\n|-----------------------|-------------------------------------------|-----------------------------------------------|\\n| **Objetivo Principal** | Construção de aplicativos de LLM         | Monitoramento, depuração e avaliação de LLMs |\\n| **Funcionalidades**    | Cadeias de modelos, memória, integrações | Rastreamento, depuração, testes, avaliação     |\\n| **Público-alvo**       | Desenvolvedores de aplicativos de LLM     | Engenheiros de ML, cientistas de dados         |\\n| **Integrações**        | Vários LLMs, bancos de dados             | LangChain, outros frameworks e plataformas     |\\n| **Vantagens**          | Flexibilidade, modularidade               | Observabilidade, depuração avançada, colaboração |\\n| **Desvantagens**       | Escalabilidade limitada em produção       | Requer aplicativo de LLM já construído         |\\n\\n\\nO LangChain é ideal para o desenvolvimento inicial e prototipagem, enquanto o LangSmith é essencial para garantir a qualidade e o desempenho em produção.  Eles são ferramentas complementares, com o LangSmith construindo sobre a base criada pelo LangChain.\\n\\n**V. Conclusão**\\n\\nLangChain e LangSmith são ferramentas essenciais, mas distintas, no ecossistema de desenvolvimento de LLM.  O LangChain fornece os blocos de construção para criar aplicativos, enquanto o LangSmith garante seu desempenho e confiabilidade em produção.  A escolha da ferramenta depende da fase do desenvolvimento: o LangChain para a construção e o LangSmith para o monitoramento e a otimização contínua.  Usados em conjunto, eles maximizam a eficiência e a qualidade no desenvolvimento e implantação de aplicativos de LLM.', 'revision_number': 3}}\n"
     ]
    }
   ],
   "source": [
    "thread = {\"configurable\": {\"thread_id\": \"1\"}}\n",
    "for s in graph.stream({\n",
    "    'task': \"Qual é a diferença entre o langchain e langsmith\",\n",
    "    \"max_revisions\": 2,\n",
    "    \"revision_number\": 1,\n",
    "    \"content\": [], \n",
    "}, thread):\n",
    "    print(s)"
   ]
  },
  {
   "cell_type": "code",
   "execution_count": null,
   "id": "305f9a71",
   "metadata": {},
   "outputs": [],
   "source": []
  }
 ],
 "metadata": {
  "kernelspec": {
   "display_name": "base",
   "language": "python",
   "name": "python3"
  },
  "language_info": {
   "codemirror_mode": {
    "name": "ipython",
    "version": 3
   },
   "file_extension": ".py",
   "mimetype": "text/x-python",
   "name": "python",
   "nbconvert_exporter": "python",
   "pygments_lexer": "ipython3",
   "version": "3.11.7"
  }
 },
 "nbformat": 4,
 "nbformat_minor": 5
}
