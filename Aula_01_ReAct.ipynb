{
 "cells": [
  {
   "cell_type": "code",
   "execution_count": null,
   "metadata": {
    "colab": {
     "base_uri": "https://localhost:8080/",
     "height": 1000
    },
    "id": "df3dBQBVmfYI",
    "outputId": "3aa9add7-2afa-4021-bdd4-45616148db5b",
    "scrolled": true
   },
   "outputs": [],
   "source": [
    "%pip install -U google-generativeai\n",
    "%pip install google-ai-generativelanguage==0.6.15\n",
    "%pip install -U langchain-google-genai\n",
    "%pip install -U langchain-community\n",
    "%pip install -U langgraph\n"
   ]
  },
  {
   "cell_type": "code",
   "execution_count": null,
   "metadata": {
    "id": "T1MlattVIr73"
   },
   "outputs": [],
   "source": [
    "import os \n",
    "import re \n",
    "import google.generativeai as genai \n",
    "from langgraph.graph import StateGraph, END \n",
    "from typing import TypedDict"
   ]
  },
  {
   "cell_type": "code",
   "execution_count": null,
   "metadata": {},
   "outputs": [],
   "source": [
    "import os\n",
    "from dotenv import load_dotenv\n",
    "\n",
    "load_dotenv()\n",
    "\n",
    "os.environ['GOOGLE_API_KEY'] = os.getenv('GEMINI_API_KEY') \n",
    "os.environ['TAVILY_API_KEY'] = os.getenv('TAVILY_API_KEY')"
   ]
  },
  {
   "cell_type": "code",
   "execution_count": null,
   "metadata": {
    "colab": {
     "base_uri": "https://localhost:8080/",
     "height": 35
    },
    "id": "b3NEYxWNUS16",
    "outputId": "082b8b59-2b24-49e3-a1f4-2e573beccb1b"
   },
   "outputs": [],
   "source": [
    "import os\n",
    "from dotenv import load_dotenv\n",
    "import google.generativeai as genai \n",
    "\n",
    "load_dotenv()\n",
    "\n",
    "os.environ['GOOGLE_API_KEY'] = os.getenv('GEMINI_API_KEY')\n",
    "os.environ['TAVILY_API_KEY'] = os.getenv('TAVILY_API_KEY')\n",
    "\n",
    "genai.configure(api_key=os.getenv('GOOGLE_API_KEY'))\n",
    "\n",
    "model = genai.GenerativeModel('gemini-2.5-flash')\n",
    "response = model.generate_content(\"Hello world\")\n",
    "\n",
    "print(response.text)"
   ]
  },
  {
   "cell_type": "code",
   "execution_count": null,
   "metadata": {
    "id": "KFO4UEFJWHN8"
   },
   "outputs": [],
   "source": [
    "class Agent:\n",
    "    def __init__(self, system=\"\"):\n",
    "        self.system = system\n",
    "        self.messages = []\n",
    "        if self.system:\n",
    "            self.messages.append({\"role\": \"system\", \"content\": system})\n",
    "\n",
    "    def __call__(self, message):\n",
    "        self.messages.append({\"role\": \"user\", \"content\": message})\n",
    "        result = self.execute()\n",
    "        self.messages.append({\"role\": \"assistant\", \"content\": result})\n",
    "        return result\n",
    "\n",
    "    def execute(self):\n",
    "        completion = client.chat.completions.create(\n",
    "                            model=\"'gemini-2.5-flash'\",\n",
    "                            temperature=0,\n",
    "                            messages=self.messages)\n",
    "        return completion.choices[0].message.content"
   ]
  },
  {
   "cell_type": "code",
   "execution_count": null,
   "metadata": {
    "id": "YLyMWH56arI4"
   },
   "outputs": [],
   "source": [
    "PROMPT_REACT = \"\"\"\n",
    "Você funciona em um ciclo de Pensamento, Ação, Pausa e Observação.\n",
    "Ao final do ciclo, você fornece uma Resposta.\n",
    "Use \"Pensamento\" para descrever seu raciocínio.\n",
    "Use \"Ação\" para executar ferramentas - e então retorne \"PAUSA\".\n",
    "A \"Observação\" será o resultado da ação executada.\n",
    "Ações disponíveis:\n",
    "  - consultar_estoque: retorna a quantidade disponível de um item no inventário (ex: \"consultar_estoque: teclado\")\n",
    "  - consultar_preco_produto: retorna o preço unitário de um produto (ex: \"consultar_preco_produto: mouse gamer\")\n",
    "\n",
    "Exemplo:\n",
    "Pergunta: Quantos monitores temos em estoque?\n",
    "Pensamento: Devo consultar a ação consultar_estoque para saber a quantidade de monitores.\n",
    "Ação: consultar_estoque: monitor\n",
    "PAUSA\n",
    "\n",
    "Observação: Temos 75 monitores em estoque.\n",
    "Resposta: Há 75 monitores em estoque.\n",
    "\"\"\".strip()\n"
   ]
  },
  {
   "cell_type": "code",
   "execution_count": null,
   "metadata": {
    "id": "AedDd7lrJUP0"
   },
   "outputs": [],
   "source": [
    "class EstadoAgente(TypedDict): \n",
    "    pergunta: str\n",
    "    historico: list[str] \n",
    "    acao_pendente: str \n",
    "    resposta_final: str \n"
   ]
  },
  {
   "cell_type": "code",
   "execution_count": null,
   "metadata": {
    "id": "TqVb16yqcP_3"
   },
   "outputs": [],
   "source": [
    "def consultar_estoque(item: str) -> str:\n",
    "    \"\"\"\n",
    "    Simula a consulta de estoque de um item no inventário.\n",
    "    \"\"\"\n",
    "    item = item.lower()\n",
    "    estoque = {\n",
    "        \"monitor\": 75,\n",
    "        \"teclado\": 120,\n",
    "        \"mouse gamer\": 80,\n",
    "        \"webcam\": 40,\n",
    "        \"headset\": 60,\n",
    "        \"impressora\": 15\n",
    "    }\n",
    "\n",
    "    if item in estoque:\n",
    "        return f\"Temos {estoque[item]} {item}s em estoque.\"\n",
    "    else:\n",
    "        return f\"Item '{item}' não encontrado no inventário.\"\n",
    "\n",
    "def consultar_preco_produto(produto: str) -> str:\n",
    "    \"\"\"\n",
    "    Simula a consulta do preço unitário de um produto.\n",
    "    \"\"\"\n",
    "    produto = produto.lower()\n",
    "    precos = {\n",
    "        \"monitor\": 999.90,\n",
    "        \"teclado\": 150.00,\n",
    "        \"mouse gamer\": 99.50,\n",
    "        \"webcam\": 120.00,\n",
    "        \"headset\": 180.00,\n",
    "        \"impressora\": 750.00\n",
    "    }\n",
    "\n",
    "    if produto in precos:\n",
    "        return f\"O preço de um(a) {produto} é R$ {precos[produto]:.2f}.\"\n",
    "    else:\n",
    "        return f\"Produto '{produto}' não encontrado na lista de preços.\"\n",
    "\n"
   ]
  },
  {
   "cell_type": "code",
   "execution_count": null,
   "metadata": {
    "colab": {
     "base_uri": "https://localhost:8080/"
    },
    "id": "BstDjGRBchyX",
    "outputId": "3402fb73-fb6c-48fd-f746-3bee29ef883c"
   },
   "outputs": [],
   "source": [
    "print(consultar_estoque(\"teclado\"))\n",
    "print(consultar_preco_produto(\"impressora\"))\n",
    "print(consultar_estoque(\"monitor\"))"
   ]
  },
  {
   "cell_type": "code",
   "execution_count": null,
   "metadata": {
    "id": "OcvVVCpvemfM"
   },
   "outputs": [],
   "source": [
    "def run_react_agent(pergunta: str, max_iterations: int = 5) -> str:\n",
    "    model = genai.GenerativeModel('gemini-2.5-flash')\n",
    "    chat = model.start_chat(history=[])\n",
    "\n",
    "    chat.send_message(PROMPT_REACT)\n",
    "\n",
    "    current_prompt = pergunta\n",
    "\n",
    "    for i in range(max_iterations):\n",
    "        response = chat.send_message(current_prompt)\n",
    "        response_text = response.text.strip()\n",
    "\n",
    "        print(f\"--- Iteração {i+1} ---\")\n",
    "        print(f\"Modelo pensou/respondeu:\\n{response_text}\\n\")\n",
    "\n",
    "        if response_text.startswith(\"Resposta:\"):\n",
    "            return response_text.replace(\"Resposta:\", \"\").strip()\n",
    "\n",
    "        match = re.search(r\"Ação:\\s*(\\w+):\\s*(.*)\", response_text)\n",
    "\n",
    "        if match:\n",
    "            action_name = match.group(1).strip()\n",
    "            action_arg = match.group(2).strip()\n",
    "\n",
    "            observacao = \"\"\n",
    "            if action_name == \"consultar_estoque\":\n",
    "                observacao = consultar_estoque(action_arg)\n",
    "            elif action_name == \"consultar_preco_produto\":\n",
    "                observacao = consultar_preco_produto(action_arg)\n",
    "            else:\n",
    "                observacao = f\"Erro: Ação '{action_name}' desconhecida.\"\n",
    "\n",
    "            current_prompt = f\"Observação: {observacao}\\nResposta:\"\n",
    "\n",
    "            print(f\"Executou ação: {action_name}({action_arg})\")\n",
    "            print(f\"Observação: {observacao}\\n\")\n",
    "\n",
    "        else:\n",
    "            return f\"Erro: O agente não conseguiu extrair uma Ação ou Resposta final após {i+1} iterações. Última resposta: {response_text}\"\n",
    "\n",
    "    return \"Erro: Limite máximo de iterações atingido sem uma resposta final.\""
   ]
  },
  {
   "cell_type": "code",
   "execution_count": null,
   "metadata": {
    "colab": {
     "base_uri": "https://localhost:8080/",
     "height": 382
    },
    "id": "eqwdFlXkgF7k",
    "outputId": "1f3491d5-37a8-437e-db58-e811e0e77982"
   },
   "outputs": [],
   "source": [
    "pergunta_1 = \"Quantos mouses gamers estão no inventário?\"\n",
    "print(f\"**Interação 1: {pergunta_1}**\")\n",
    "resposta_1 = run_react_agent(pergunta_1)\n",
    "print(f\"\\n**RESPOSTA FINAL DO AGENTE 1:** {resposta_1}\\n\")\n",
    "\n",
    "print(\"\\n\" + \"=\"*50 + \"\\n\") \n"
   ]
  },
  {
   "cell_type": "code",
   "execution_count": null,
   "metadata": {
    "colab": {
     "base_uri": "https://localhost:8080/",
     "height": 382
    },
    "id": "0oXXQo9QgASq",
    "outputId": "938c27d7-1610-4d8a-ade7-2c1b422910d1"
   },
   "outputs": [],
   "source": [
    "\n",
    "pergunta_2 = \"Qual o valor de uma impressora?\"\n",
    "print(f\"**Interação 2: {pergunta_2}**\")\n",
    "resposta_2 = run_react_agent(pergunta_2)\n",
    "print(f\"\\n**RESPOSTA FINAL DO AGENTE 2:** {resposta_2}\\n\")\n",
    "\n",
    "print(\"\\n\" + \"=\"*50 + \"\\n\") \n",
    "\n"
   ]
  },
  {
   "cell_type": "code",
   "execution_count": null,
   "metadata": {
    "colab": {
     "base_uri": "https://localhost:8080/",
     "height": 383
    },
    "id": "waAFE_swgff9",
    "outputId": "378247a5-db29-4392-a620-51b6405b288a"
   },
   "outputs": [],
   "source": [
    "pergunta_3 = \"Temos cadeiras em estoque?\"\n",
    "print(f\"**Interação 3: {pergunta_3}**\")\n",
    "resposta_3 = run_react_agent(pergunta_3)\n",
    "print(f\"\\n**RESPOSTA FINAL DO AGENTE 3:** {resposta_3}\\n\")"
   ]
  },
  {
   "cell_type": "code",
   "execution_count": null,
   "metadata": {
    "colab": {
     "base_uri": "https://localhost:8080/",
     "height": 438
    },
    "id": "SdTXvoqLgsmy",
    "outputId": "252e4b75-bd9c-4723-e2c8-f081d7422832"
   },
   "outputs": [],
   "source": [
    "pergunta_4 = \"Qual é o produto mais caro?\"\n",
    "print(f\"**Interação 4: {pergunta_4}**\")\n",
    "resposta_4 = run_react_agent(pergunta_4)\n",
    "print(f\"\\n**RESPOSTA FINAL DO AGENTE 4:** {resposta_4}\\n\")"
   ]
  },
  {
   "cell_type": "code",
   "execution_count": null,
   "metadata": {
    "id": "trOuUGsAhq-w"
   },
   "outputs": [],
   "source": [
    "def consultar_estoque(item: str) -> str: \n",
    "    \"\"\"\n",
    "    Simula a consulta de estoque de um item no inventário.\n",
    "    \"\"\"\n",
    "    item = item.lower().strip()\n",
    "    estoque = {\n",
    "        \"monitor\": 75,\n",
    "        \"teclado\": 120,\n",
    "        \"mouse gamer\": 80,\n",
    "        \"webcam\": 40,\n",
    "        \"headset\": 60,\n",
    "        \"impressora\": 15\n",
    "    }\n",
    "\n",
    "    if item in estoque:\n",
    "        return f\"Temos {estoque[item]} {item}s em estoque.\"\n",
    "    else:\n",
    "        return f\"Item '{item}' não encontrado no inventário.\"\n",
    "\n",
    "def consultar_preco_produto(produto: str) -> str: \n",
    "    \"\"\"\n",
    "    Simula a consulta do preço unitário de um produto.\n",
    "    \"\"\"\n",
    "    produto = produto.lower().strip()\n",
    "    precos = {\n",
    "        \"monitor\": 999.90,\n",
    "        \"teclado\": 150.00,\n",
    "        \"mouse gamer\": 99.50,\n",
    "        \"webcam\": 120.00,\n",
    "        \"headset\": 180.00,\n",
    "        \"impressora\": 750.00\n",
    "    }\n",
    "\n",
    "    if produto in precos:\n",
    "        return f\"O preço de um(a) {produto} é R$ {precos[produto]:.2f}.\"\n",
    "    else:\n",
    "        return f\"Produto '{produto}' não encontrado na lista de preços.\"\n",
    "\n",
    "def ferramenta_encontrar_produto_mais_caro() -> str: \n",
    "    \"\"\"\n",
    "    Retorna o nome e o preço do produto mais caro no inventário.\n",
    "    Esta função não precisa de argumentos.\n",
    "    \"\"\"\n",
    "    \n",
    "    precos_do_inventario = {\n",
    "        \"monitor\": 999.90,\n",
    "        \"teclado\": 150.00,\n",
    "        \"mouse gamer\": 99.50,\n",
    "        \"webcam\": 120.00,\n",
    "        \"headset\": 180.00,\n",
    "        \"impressora\": 750.00\n",
    "    }\n",
    "\n",
    "    if not precos_do_inventario: \n",
    "        return \"Nenhum produto encontrado na lista de preços para comparação.\"\n",
    "\n",
    "    \n",
    "    nome_produto_mais_caro = max(precos_do_inventario, key=precos_do_inventario.get)\n",
    "    valor_produto_mais_caro = precos_do_inventario[nome_produto_mais_caro]\n",
    "\n",
    "    return f\"O produto mais caro é o(a) {nome_produto_mais_caro} com preço de R$ {valor_produto_mais_caro:.2f}.\" \n",
    "\n",
    "\n"
   ]
  },
  {
   "cell_type": "code",
   "execution_count": null,
   "metadata": {
    "id": "Yh_ujilJi22P"
   },
   "outputs": [],
   "source": [
    "PROMPT_REACT = \"\"\"\n",
    "Você funciona em um ciclo de Pensamento, Ação, Pausa e Observação.\n",
    "Ao final do ciclo, você fornece uma Resposta.\n",
    "Use \"Pensamento\" para descrever seu raciocínio.\n",
    "Use \"Ação\" para executar ferramentas - e então retorne \"PAUSA\".\n",
    "A \"Observação\" será o resultado da ação executada.\n",
    "Ações disponíveis:\n",
    "  - consultar_estoque: retorna a quantidade disponível de um item no inventário (ex: \"consultar_estoque: teclado\")\n",
    "  - consultar_preco_produto: retorna o preço unitário de um produto (ex: \"consultar_preco_produto: mouse gamer\")\n",
    "  - encontrar_produto_mais_caro: retorna o nome e o preço do produto mais caro no inventário (não requer argumentos)\n",
    "\n",
    "Exemplo:\n",
    "Pergunta: Quantos monitores temos em estoque?\n",
    "Pensamento: Devo consultar a ação consultar_estoque para saber a quantidade de monitores.\n",
    "Ação: consultar_estoque: monitor\n",
    "PAUSA\n",
    "\n",
    "Observação: Temos 75 monitores em estoque.\n",
    "Resposta: Há 75 monitores em estoque.\n",
    "\n",
    "Exemplo:\n",
    "Pergunta: Qual é o produto mais caro?\n",
    "Pensamento: Preciso usar a ação encontrar_produto_mais_caro para descobrir qual produto tem o maior preço.\n",
    "Ação: encontrar_produto_mais_caro\n",
    "PAUSA\n",
    "\n",
    "Observação: O produto mais caro é o(a) monitor com preço de R$ 999.90.\n",
    "Resposta: O produto mais caro é o(a) monitor com preço de R$ 999.90.\n",
    "\"\"\".strip()"
   ]
  },
  {
   "cell_type": "code",
   "execution_count": null,
   "metadata": {
    "id": "-fDPbXePjCEt"
   },
   "outputs": [],
   "source": [
    "def run_react_agent(pergunta: str, max_iterations: int = 5) -> str:\n",
    "    \"\"\"\n",
    "    Executa o ciclo ReAct para uma dada pergunta usando o modelo Gemini.\n",
    "    \"\"\"\n",
    "\n",
    "    model = genai.GenerativeModel('gemini-2.5-flash')\n",
    "\n",
    "    chat = model.start_chat(history=[])\n",
    "    chat.send_message(PROMPT_REACT)\n",
    "\n",
    "    current_prompt = pergunta\n",
    "\n",
    "    for i in range(max_iterations):\n",
    "        response = chat.send_message(current_prompt)\n",
    "        response_text = response.text.strip()\n",
    "\n",
    "        print(f\"\\n--- Iteração {i+1} ---\")\n",
    "        print(f\"Modelo pensou/respondeu:\\n{response_text}\\n\")\n",
    "\n",
    "        \n",
    "        response_match_final = re.search(r\"Resposta:\\s*(.*)\", response_text, re.DOTALL)\n",
    "        if response_match_final:\n",
    "            return response_match_final.group(1).strip()\n",
    "\n",
    "        \n",
    "        match = re.search(r\"Ação:\\s*(\\w+)(?::\\s*([^\\n]*))?\", response_text)\n",
    "\n",
    "        if match:\n",
    "            action_name = match.group(1).strip()\n",
    "\n",
    "            action_arg = match.group(2).strip() if match.group(2) is not None else \"\"\n",
    "\n",
    "            observacao_da_acao = \"\"\n",
    "\n",
    "            if action_name == \"consultar_estoque\":\n",
    "                observacao_da_acao = consultar_estoque(action_arg)\n",
    "            elif action_name == \"consultar_preco_produto\":\n",
    "                observacao_da_acao = consultar_preco_produto(action_arg)\n",
    "            elif action_name == \"encontrar_produto_mais_caro\": \n",
    "                observacao_da_acao = ferramenta_encontrar_produto_mais_caro()\n",
    "            else:\n",
    "                observacao_da_acao = f\"Erro: Ação '{action_name}' desconhecida. Verifique o prompt ou a implementação da ferramenta.\"\n",
    "\n",
    "            # Simplificamos o prompt de Observação\n",
    "            current_prompt = f\"Observação: {observacao_da_acao}\"\n",
    "\n",
    "            print(f\"Executou ação: {action_name} com argumento '{action_arg}'\")\n",
    "            print(f\"Observação: {observacao_da_acao}\\n\")\n",
    "\n",
    "        else:\n",
    "            \n",
    "            return f\"Erro: O agente não conseguiu extrair uma Ação ou Resposta final após {i+1} iterações. Última resposta do modelo: {response_text}\"\n",
    "\n",
    "    \n",
    "    return \"Erro: Limite máximo de iterações atingido sem uma resposta final do agente.\"\n"
   ]
  },
  {
   "cell_type": "code",
   "execution_count": null,
   "metadata": {
    "colab": {
     "base_uri": "https://localhost:8080/",
     "height": 1000
    },
    "id": "SLByHNQEjda0",
    "outputId": "e7160b35-3ae7-4043-da0b-3e1fe059c3ac"
   },
   "outputs": [],
   "source": [
    "print(\"--- Começando as Interações com o Agente ReAct ---\")\n",
    "\n",
    "# Interação 1: Consultar Estoque\n",
    "pergunta_1 = \"Quantos teclados temos em estoque?\"\n",
    "print(f\"\\n**Interação 1: {pergunta_1}**\")\n",
    "resposta_1 = run_react_agent(pergunta_1)\n",
    "print(f\"\\n**RESPOSTA FINAL DO AGENTE 1:** {resposta_1}\\n\")\n",
    "\n",
    "print(\"\\n\" + \"=\"*80 + \"\\n\")\n",
    "\n",
    "# Interação 2: Consultar Preço\n",
    "pergunta_2 = \"Qual o preço de um headset?\"\n",
    "print(f\"\\n**Interação 2: {pergunta_2}**\")\n",
    "resposta_2 = run_react_agent(pergunta_2)\n",
    "print(f\"\\n**RESPOSTA FINAL DO AGENTE 2:** {resposta_2}\\n\")\n",
    "\n",
    "print(\"\\n\" + \"=\"*80 + \"\\n\")\n",
    "\n",
    "# Interação 3: Item não encontrado no estoque\n",
    "pergunta_3 = \"Temos cadeiras em estoque?\"\n",
    "print(f\"\\n**Interação 3: {pergunta_3}**\")\n",
    "resposta_3 = run_react_agent(pergunta_3)\n",
    "print(f\"\\n**RESPOSTA FINAL DO AGENTE 3:** {resposta_3}\\n\")\n",
    "\n",
    "print(\"\\n\" + \"=\"*80 + \"\\n\")\n",
    "\n",
    "# Interação 4: Encontrar o Produto Mais Caro (A nova funcionalidade!)\n",
    "pergunta_4 = \"Qual é o produto mais caro?\"\n",
    "print(f\"\\n**Interação 4: {pergunta_4}**\")\n",
    "resposta_4 = run_react_agent(pergunta_4)\n",
    "print(f\"\\n**RESPOSTA FINAL DO AGENTE 4:** {resposta_4}\\n\")\n",
    "\n",
    "print(\"\\n--- Fim das Interações ---\")"
   ]
  },
  {
   "cell_type": "code",
   "execution_count": null,
   "metadata": {
    "id": "5EL3mMwHrC_C"
   },
   "outputs": [],
   "source": [
    "def run_react_agent_with_history(pergunta: str, max_iterations: int = 5) -> tuple[str, list]: \n",
    "    model = genai.GenerativeModel('gemini-2.5-flash') \n",
    "\n",
    "    chat = model.start_chat(history=[])\n",
    "    chat.send_message(PROMPT_REACT) \n",
    "\n",
    "    current_prompt = pergunta\n",
    "\n",
    "    for i in range(max_iterations):\n",
    "        response = chat.send_message(current_prompt)\n",
    "        response_text = response.text.strip()\n",
    "\n",
    "        print(f\"\\n--- Iteração {i+1} ---\")\n",
    "        print(f\"Modelo pensou/respondeu:\\n{response_text}\\n\")\n",
    "\n",
    "        response_match_final = re.search(r\"Resposta:\\s*(.*)\", response_text, re.DOTALL)\n",
    "        if response_match_final:\n",
    "            return response_match_final.group(1).strip(), chat.history\n",
    "\n",
    "        match = re.search(r\"Ação:\\s*(\\w+)(?::\\s*([^\\n]*))?\", response_text)\n",
    "\n",
    "        if match:\n",
    "            action_name = match.group(1).strip()\n",
    "            action_arg = match.group(2).strip() if match.group(2) is not None else \"\"\n",
    "\n",
    "            observacao_da_acao = \"\"\n",
    "\n",
    "            if action_name == \"consultar_estoque\":\n",
    "                observacao_da_acao = consultar_estoque(action_arg)\n",
    "            elif action_name == \"consultar_preco_produto\":\n",
    "                observacao_da_acao = consultar_preco_produto(action_arg)\n",
    "            elif action_name == \"encontrar_produto_mais_caro\":\n",
    "                observacao_da_acao = ferramenta_encontrar_produto_mais_caro()\n",
    "            else:\n",
    "                observacao_da_acao = f\"Erro: Ação '{action_name}' desconhecida. Verifique o prompt ou a implementação da ferramenta.\"\n",
    "\n",
    "            current_prompt = f\"Observação: {observacao_da_acao}\"\n",
    "\n",
    "            print(f\"Executou ação: {action_name} com argumento '{action_arg}'\")\n",
    "            print(f\"Observação: {observacao_da_acao}\\n\")\n",
    "\n",
    "        else:\n",
    "            return f\"Erro: O agente não conseguiu extrair uma Ação ou Resposta final após {i+1} iterações. Última resposta do modelo: {response_text}\", chat.history\n",
    "\n",
    "    return \"Erro: Limite máximo de iterações atingido sem uma resposta final do agente.\", chat.history"
   ]
  },
  {
   "cell_type": "code",
   "execution_count": null,
   "metadata": {
    "colab": {
     "base_uri": "https://localhost:8080/",
     "height": 1000
    },
    "id": "zPWXufHErJQ7",
    "outputId": "b1ae35f4-bf17-4254-97d0-e6a4cfd1bf7a"
   },
   "outputs": [],
   "source": [
    "pergunta_exemplo = \"Quantos teclados temos em estoque?\"\n",
    "resposta_exemplo, historico_completo = run_react_agent_with_history(pergunta_exemplo)\n",
    "\n",
    "print(f\"**RESPOSTA FINAL DO AGENTE:** {resposta_exemplo}\\n\")\n",
    "\n",
    "print(\"\\n--- Histórico Completo da Interação ---\")\n",
    "for i, message in enumerate(historico_completo):\n",
    "    print(f\"--- Mensagem {i+1} (role: {message.role}) ---\")\n",
    "\n",
    "    for part in message.parts:\n",
    "        if hasattr(part, 'text'):\n",
    "            print(part.text)\n",
    "        else:\n",
    "            print(part)\n",
    "    print(\"-\" * 20)\n",
    "print(\"\\n--- Fim do Histórico ---\\n\")"
   ]
  },
  {
   "cell_type": "code",
   "execution_count": null,
   "metadata": {
    "id": "KRPq3tmQuKRc"
   },
   "outputs": [],
   "source": [
    "def ferramenta_calcular_valor_total_lista(lista_itens: str) -> str:\n",
    "    \"\"\"\n",
    "    Calcula o valor total de uma lista de itens de compra.\n",
    "    Recebe uma string com itens separados por vírgula (ex: \"teclado, mouse gamer, monitor\").\n",
    "    \"\"\"\n",
    "    precos_do_inventario = { \n",
    "        \"monitor\": 999.90,\n",
    "        \"teclado\": 150.00,\n",
    "        \"mouse gamer\": 99.50,\n",
    "        \"webcam\": 120.00,\n",
    "        \"headset\": 180.00,\n",
    "        \"impressora\": 750.00\n",
    "    }\n",
    "\n",
    "    itens_processados = [item.strip().lower() for item in lista_itens.split(',')]\n",
    "\n",
    "    valor_total = 0.0\n",
    "    itens_nao_encontrados = []\n",
    "\n",
    "\n",
    "    for item in itens_processados: \n",
    "        if item in precos_do_inventario:\n",
    "            valor_total += precos_do_inventario[item]\n",
    "        else:\n",
    "            itens_nao_encontrados.append(item)\n",
    "\n",
    "    resposta = f\"O valor total dos itens encontrados é R$ {valor_total:.2f}.\"\n",
    "    if itens_nao_encontrados:\n",
    "        resposta += f\" Os seguintes itens não foram encontrados e não foram incluídos no cálculo: {', '.join(itens_nao_encontrados)}.\"\n",
    "\n",
    "    return resposta\n"
   ]
  },
  {
   "cell_type": "code",
   "execution_count": null,
   "metadata": {
    "colab": {
     "base_uri": "https://localhost:8080/"
    },
    "id": "Uiss8UW4uNvU",
    "outputId": "35f706f5-2e29-413a-8f00-c5539c4c8bf8"
   },
   "outputs": [],
   "source": [
    "print(\"Testando ferramenta_calcular_valor_total_lista:\")\n",
    "\n",
    "lista_1 = \"teclado, mouse gamer, monitor\"\n",
    "resultado_1 = ferramenta_calcular_valor_total_lista(lista_1)\n",
    "print(f\"Lista: '{lista_1}'\\nResultado: {resultado_1}\\n\")\n"
   ]
  },
  {
   "cell_type": "code",
   "execution_count": null,
   "metadata": {
    "colab": {
     "base_uri": "https://localhost:8080/"
    },
    "id": "PuRjn7AtuUHD",
    "outputId": "f95e08b1-4908-4d29-ddcd-18f3f7351d54"
   },
   "outputs": [],
   "source": [
    "lista_2 = \"headset, cadeira\"\n",
    "resultado_2 = ferramenta_calcular_valor_total_lista(lista_2)\n",
    "print(f\"Lista: '{lista_2}'\\nResultado: {resultado_2}\\n\")\n"
   ]
  },
  {
   "cell_type": "code",
   "execution_count": null,
   "metadata": {
    "colab": {
     "base_uri": "https://localhost:8080/"
    },
    "id": "8dvw_99JuXPg",
    "outputId": "987c6e3e-1c74-4e9d-9237-a0b5aac87309"
   },
   "outputs": [],
   "source": [
    "lista_3 = \"mesa, copo\"\n",
    "resultado_3 = ferramenta_calcular_valor_total_lista(lista_3)\n",
    "print(f\"Lista: '{lista_3}'\\nResultado: {resultado_3}\\n\")\n"
   ]
  },
  {
   "cell_type": "code",
   "execution_count": null,
   "metadata": {
    "id": "tG2VjjVfu_Bp"
   },
   "outputs": [],
   "source": [
    "def run_react_agent(pergunta: str, max_iterations: int = 5) -> str:\n",
    "    model = genai.GenerativeModel('gemini-2.5-flash')\n",
    "\n",
    "    chat = model.start_chat(history=[])\n",
    "    chat.send_message(PROMPT_REACT)\n",
    "\n",
    "    current_prompt = pergunta\n",
    "\n",
    "    for i in range(max_iterations):\n",
    "        response = chat.send_message(current_prompt)\n",
    "        response_text = response.text.strip()\n",
    "\n",
    "        print(f\"\\n--- Iteração {i+1} ---\")\n",
    "        print(f\"Modelo pensou/respondeu:\\n{response_text}\\n\")\n",
    "\n",
    "        response_match_final = re.search(r\"Resposta:\\s*(.*)\", response_text, re.DOTALL)\n",
    "        if response_match_final:\n",
    "            return response_match_final.group(1).strip()\n",
    "\n",
    "\n",
    "        match = re.search(r\"Ação:\\s*(\\w+)(?::\\s*([^\\n]*))?\", response_text)\n",
    "\n",
    "        if match:\n",
    "            action_name = match.group(1).strip()\n",
    "            action_arg = match.group(2).strip() if match.group(2) is not None else \"\"\n",
    "\n",
    "            observacao_da_acao = \"\"\n",
    "\n",
    "            if action_name == \"consultar_estoque\":\n",
    "                observacao_da_acao = consultar_estoque(action_arg)\n",
    "            elif action_name == \"consultar_preco_produto\":\n",
    "                observacao_da_acao = consultar_preco_produto(action_arg)\n",
    "            elif action_name == \"encontrar_produto_mais_caro\":\n",
    "                observacao_da_acao = ferramenta_encontrar_produto_mais_caro()\n",
    "            elif action_name == \"calcular_valor_total_lista\":\n",
    "                observacao_da_acao = ferramenta_calcular_valor_total_lista(action_arg)\n",
    "            else:\n",
    "                observacao_da_acao = f\"Erro: Ação '{action_name}' desconhecida. Verifique o prompt ou a implementação da ferramenta.\"\n",
    "\n",
    "            current_prompt = f\"Observação: {observacao_da_acao}\"\n",
    "\n",
    "            print(f\"Executou ação: {action_name} com argumento '{action_arg}'\")\n",
    "            print(f\"Observação: {observacao_da_acao}\\n\")\n",
    "\n",
    "        else:\n",
    "            return f\"Erro: O agente não conseguiu extrair uma Ação ou Resposta final após {i+1} iterações. Última resposta do modelo: {response_text}\"\n",
    "\n",
    "    return \"Erro: Limite máximo de iterações atingido sem uma resposta final do agente.\""
   ]
  },
  {
   "cell_type": "code",
   "execution_count": null,
   "metadata": {
    "colab": {
     "base_uri": "https://localhost:8080/",
     "height": 1000
    },
    "id": "A_DB5t1yttWv",
    "outputId": "3efe26d6-ffe0-41ec-8372-7c7d256f6733"
   },
   "outputs": [],
   "source": [
    "print(\"--- Começando as Interações com o Agente ReAct ---\")\n",
    "\n",
    "# Interação 1: Consultar Estoque\n",
    "pergunta_1 = \"Quantos teclados temos em estoque?\"\n",
    "print(f\"\\n**Interação 1: {pergunta_1}**\")\n",
    "resposta_1 = run_react_agent(pergunta_1)\n",
    "print(f\"\\n**RESPOSTA FINAL DO AGENTE 1:** {resposta_1}\\n\")\n",
    "\n",
    "print(\"\\n\" + \"=\"*80 + \"\\n\")\n",
    "\n",
    "# Interação 2: Consultar Preço\n",
    "pergunta_2 = \"Qual o preço de um headset?\"\n",
    "print(f\"\\n**Interação 2: {pergunta_2}**\")\n",
    "resposta_2 = run_react_agent(pergunta_2)\n",
    "print(f\"\\n**RESPOSTA FINAL DO AGENTE 2:** {resposta_2}\\n\")\n",
    "\n",
    "print(\"\\n\" + \"=\"*80 + \"\\n\")\n",
    "\n",
    "# Interação 3: Item não encontrado no estoque\n",
    "pergunta_3 = \"Temos cadeiras em estoque?\"\n",
    "print(f\"\\n**Interação 3: {pergunta_3}**\")\n",
    "resposta_3 = run_react_agent(pergunta_3)\n",
    "print(f\"\\n**RESPOSTA FINAL DO AGENTE 3:** {resposta_3}\\n\")\n",
    "\n",
    "print(\"\\n\" + \"=\"*80 + \"\\n\")\n",
    "\n",
    "# Interação 4: Encontrar o Produto Mais Caro\n",
    "pergunta_4 = \"Qual é o produto mais caro?\"\n",
    "print(f\"\\n**Interação 4: {pergunta_4}**\")\n",
    "resposta_4 = run_react_agent(pergunta_4)\n",
    "print(f\"\\n**RESPOSTA FINAL DO AGENTE 4:** {resposta_4}\\n\")\n",
    "\n",
    "print(\"\\n\" + \"=\"*80 + \"\\n\")\n",
    "\n",
    "# Interação 5: Calcular Valor Total da Lista (NOVA FUNCIONALIDADE)\n",
    "pergunta_5 = \"Qual o valor de um teclado, uma impressora e uma webcam?\"\n",
    "print(f\"\\n**Interação 5: {pergunta_5}**\")\n",
    "resposta_5 = run_react_agent(pergunta_5)\n",
    "print(f\"\\n**RESPOSTA FINAL DO AGENTE 5:** {resposta_5}\\n\")\n",
    "\n",
    "\n",
    "print(\"\\n--- Fim das Interações ---\")"
   ]
  },
  {
   "cell_type": "code",
   "execution_count": null,
   "metadata": {
    "id": "wRYicf8VvtCs"
   },
   "outputs": [],
   "source": [
    "PROMPT_REACT = \"\"\"\n",
    "Você funciona em um ciclo de Pensamento, Ação, Pausa e Observação.\n",
    "Ao final do ciclo, você fornece uma Resposta.\n",
    "Use \"Pensamento\" para descrever seu raciocínio.\n",
    "Use \"Ação\" para executar ferramentas - e então retorne \"PAUSA\".\n",
    "A \"Observação\" será o resultado da ação executada.\n",
    "Ações disponíveis:\n",
    "  - consultar_estoque: retorna a quantidade disponível de um item no inventário (ex: \"consultar_estoque: teclado\")\n",
    "  - consultar_preco_produto: retorna o preço unitário de um produto (ex: \"consultar_preco_produto: mouse gamer\")\n",
    "  - encontrar_produto_mais_caro: retorna o nome e o preço do produto mais caro no inventário (não requer argumentos)\n",
    "  - calcular_valor_total_lista: calcula o valor total de uma lista de itens de compra. Recebe uma string com itens separados por vírgula (ex: \"teclado, mouse gamer, monitor\")\n",
    "\n",
    "Exemplo:\n",
    "Pergunta: Quantos monitores temos em estoque?\n",
    "Pensamento: Devo consultar a ação consultar_estoque para saber a quantidade de monitores.\n",
    "Ação: consultar_estoque: monitor\n",
    "PAUSA\n",
    "\n",
    "Observação: Temos 75 monitores em estoque.\n",
    "Resposta: Há 75 monitores em estoque.\n",
    "\n",
    "Exemplo:\n",
    "Pergunta: Qual é o produto mais caro?\n",
    "Pensamento: Preciso usar a ação encontrar_produto_mais_caro para descobrir qual produto tem o maior preço.\n",
    "Ação: encontrar_produto_mais_caro\n",
    "PAUSA\n",
    "\n",
    "Observação: O produto mais caro é o(a) monitor com preço de R$ 999.90.\n",
    "Resposta: O produto mais caro é o(a) monitor com preço de R$ 999.90.\n",
    "\n",
    "Exemplo:\n",
    "Pergunta: Quanto custa um teclado e um mouse gamer?\n",
    "Pensamento: O usuário quer saber o valor total de vários itens. Devo usar a ação calcular_valor_total_lista com os itens \"teclado, mouse gamer\".\n",
    "Ação: calcular_valor_total_lista: teclado, mouse gamer\n",
    "PAUSA\n",
    "\n",
    "Observação: O valor total dos itens encontrados é R$ 249.50.\n",
    "Resposta: O valor total do teclado e do mouse gamer é R$ 249.50.\n",
    "\"\"\".strip()\n"
   ]
  },
  {
   "cell_type": "code",
   "execution_count": null,
   "metadata": {
    "colab": {
     "base_uri": "https://localhost:8080/",
     "height": 1000
    },
    "id": "Wc5JszTOv5Fu",
    "outputId": "54c490f6-bed9-4ee4-8dc2-486d13c8d51b"
   },
   "outputs": [],
   "source": [
    "print(\"--- Começando as Interações com o Agente ReAct ---\")\n",
    "\n",
    "# Interação 1: Consultar Estoque\n",
    "pergunta_1 = \"Quantos teclados temos em estoque?\"\n",
    "print(f\"\\n**Interação 1: {pergunta_1}**\")\n",
    "resposta_1 = run_react_agent(pergunta_1)\n",
    "print(f\"\\n**RESPOSTA FINAL DO AGENTE 1:** {resposta_1}\\n\")\n",
    "\n",
    "print(\"\\n\" + \"=\"*80 + \"\\n\")\n",
    "\n",
    "# Interação 2: Consultar Preço\n",
    "pergunta_2 = \"Qual o preço de um headset?\"\n",
    "print(f\"\\n**Interação 2: {pergunta_2}**\")\n",
    "resposta_2 = run_react_agent(pergunta_2)\n",
    "print(f\"\\n**RESPOSTA FINAL DO AGENTE 2:** {resposta_2}\\n\")\n",
    "\n",
    "print(\"\\n\" + \"=\"*80 + \"\\n\")\n",
    "\n",
    "# Interação 3: Item não encontrado no estoque\n",
    "pergunta_3 = \"Temos cadeiras em estoque?\"\n",
    "print(f\"\\n**Interação 3: {pergunta_3}**\")\n",
    "resposta_3 = run_react_agent(pergunta_3)\n",
    "print(f\"\\n**RESPOSTA FINAL DO AGENTE 3:** {resposta_3}\\n\")\n",
    "\n",
    "print(\"\\n\" + \"=\"*80 + \"\\n\")\n",
    "\n",
    "# Interação 4: Encontrar o Produto Mais Caro\n",
    "pergunta_4 = \"Qual é o produto mais caro?\"\n",
    "print(f\"\\n**Interação 4: {pergunta_4}**\")\n",
    "resposta_4 = run_react_agent(pergunta_4)\n",
    "print(f\"\\n**RESPOSTA FINAL DO AGENTE 4:** {resposta_4}\\n\")\n",
    "\n",
    "print(\"\\n\" + \"=\"*80 + \"\\n\")\n",
    "\n",
    "# Interação 5: Calcular Valor Total da Lista (NOVA FUNCIONALIDADE)\n",
    "pergunta_5 = \"Qual o valor de um teclado, uma impressora e uma webcam?\"\n",
    "print(f\"\\n**Interação 5: {pergunta_5}**\")\n",
    "resposta_5 = run_react_agent(pergunta_5)\n",
    "print(f\"\\n**RESPOSTA FINAL DO AGENTE 5:** {resposta_5}\\n\")\n",
    "\n",
    "\n",
    "print(\"\\n--- Fim das Interações ---\")"
   ]
  },
  {
   "cell_type": "code",
   "execution_count": null,
   "metadata": {
    "colab": {
     "base_uri": "https://localhost:8080/",
     "height": 1000
    },
    "id": "iHkxGxe0wtlX",
    "outputId": "9e808c25-ce2f-4c8a-fa0e-fc09ca7bcad0"
   },
   "outputs": [],
   "source": [
    "def iniciar_conversacao_com_agente():\n",
    "    print(\"--- Agente de Inventário Interativo ---\")\n",
    "    print(\"Digite sua pergunta sobre o inventário, ou digite 'sair' para encerrar.\")\n",
    "    print(\"-\" * 50)\n",
    "\n",
    "    while True:\n",
    "        pergunta_usuario = input(\"\\nVocê: \")\n",
    "\n",
    "        if pergunta_usuario.lower().strip() == 'sair':\n",
    "            print(\"Encerrando a conversa. Até logo!\")\n",
    "            break\n",
    "\n",
    "        print(\"\\nAgente: Processando...\")\n",
    "        try:\n",
    "\n",
    "            resposta_agente = run_react_agent(pergunta_usuario)\n",
    "            print(f\"\\nAgente: {resposta_agente}\")\n",
    "        except Exception as e:\n",
    "\n",
    "            print(f\"\\nAgente: Ocorreu um erro ao processar sua pergunta: {e}\")\n",
    "            print(\"Por favor, tente novamente ou digite 'sair'.\")\n",
    "\n",
    "if __name__ == \"__main__\":\n",
    "    iniciar_conversacao_com_agente()"
   ]
  }
 ],
 "metadata": {
  "colab": {
   "provenance": []
  },
  "kernelspec": {
   "display_name": "Python 3 (ipykernel)",
   "language": "python",
   "name": "python3"
  },
  "language_info": {
   "codemirror_mode": {
    "name": "ipython",
    "version": 3
   },
   "file_extension": ".py",
   "mimetype": "text/x-python",
   "name": "python",
   "nbconvert_exporter": "python",
   "pygments_lexer": "ipython3",
   "version": "3.11.7"
  }
 },
 "nbformat": 4,
 "nbformat_minor": 4
}
